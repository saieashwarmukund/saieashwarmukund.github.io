{
 "cells": [
  {
   "cell_type": "code",
   "execution_count": 2,
   "metadata": {},
   "outputs": [
    {
     "name": "stdout",
     "output_type": "stream",
     "text": [
      "Requirement already satisfied: plotly in c:\\users\\samukund\\appdata\\local\\continuum\\anaconda3\\lib\\site-packages (5.18.0)\n",
      "Requirement already satisfied: tenacity>=6.2.0 in c:\\users\\samukund\\appdata\\local\\continuum\\anaconda3\\lib\\site-packages (from plotly) (8.2.3)\n",
      "Requirement already satisfied: packaging in c:\\users\\samukund\\appdata\\local\\continuum\\anaconda3\\lib\\site-packages (from plotly) (19.2)\n",
      "Requirement already satisfied: pyparsing>=2.0.2 in c:\\users\\samukund\\appdata\\local\\continuum\\anaconda3\\lib\\site-packages (from packaging->plotly) (2.4.2)\n",
      "Requirement already satisfied: six in c:\\users\\samukund\\appdata\\local\\continuum\\anaconda3\\lib\\site-packages (from packaging->plotly) (1.15.0)\n",
      "Requirement already satisfied: dash in c:\\users\\samukund\\appdata\\local\\continuum\\anaconda3\\lib\\site-packages (2.15.0)\n",
      "Requirement already satisfied: Werkzeug<3.1 in c:\\users\\samukund\\appdata\\local\\continuum\\anaconda3\\lib\\site-packages (from dash) (0.16.0)\n",
      "Requirement already satisfied: dash-html-components==2.0.0 in c:\\users\\samukund\\appdata\\local\\continuum\\anaconda3\\lib\\site-packages (from dash) (2.0.0)\n",
      "Requirement already satisfied: setuptools in c:\\users\\samukund\\appdata\\local\\continuum\\anaconda3\\lib\\site-packages (from dash) (50.3.0)\n",
      "Requirement already satisfied: Flask<3.1,>=1.0.4 in c:\\users\\samukund\\appdata\\local\\continuum\\anaconda3\\lib\\site-packages (from dash) (1.1.1)\n",
      "Requirement already satisfied: retrying in c:\\users\\samukund\\appdata\\local\\continuum\\anaconda3\\lib\\site-packages (from dash) (1.3.4)\n",
      "Requirement already satisfied: dash-core-components==2.0.0 in c:\\users\\samukund\\appdata\\local\\continuum\\anaconda3\\lib\\site-packages (from dash) (2.0.0)\n",
      "Requirement already satisfied: dash-table==5.0.0 in c:\\users\\samukund\\appdata\\local\\continuum\\anaconda3\\lib\\site-packages (from dash) (5.0.0)\n",
      "Requirement already satisfied: requests in c:\\users\\samukund\\appdata\\local\\continuum\\anaconda3\\lib\\site-packages (from dash) (2.22.0)\n",
      "Requirement already satisfied: importlib-metadata; python_version >= \"3.7\" in c:\\users\\samukund\\appdata\\local\\continuum\\anaconda3\\lib\\site-packages (from dash) (0.23)\n",
      "Requirement already satisfied: nest-asyncio in c:\\users\\samukund\\appdata\\local\\continuum\\anaconda3\\lib\\site-packages (from dash) (1.6.0)\n",
      "Requirement already satisfied: plotly>=5.0.0 in c:\\users\\samukund\\appdata\\local\\continuum\\anaconda3\\lib\\site-packages (from dash) (5.18.0)\n",
      "Requirement already satisfied: typing-extensions>=4.1.1 in c:\\users\\samukund\\appdata\\local\\continuum\\anaconda3\\lib\\site-packages (from dash) (4.7.1)\n",
      "Requirement already satisfied: click>=5.1 in c:\\users\\samukund\\appdata\\local\\continuum\\anaconda3\\lib\\site-packages (from Flask<3.1,>=1.0.4->dash) (7.0)\n",
      "Requirement already satisfied: Jinja2>=2.10.1 in c:\\users\\samukund\\appdata\\local\\continuum\\anaconda3\\lib\\site-packages (from Flask<3.1,>=1.0.4->dash) (2.10.3)\n",
      "Requirement already satisfied: itsdangerous>=0.24 in c:\\users\\samukund\\appdata\\local\\continuum\\anaconda3\\lib\\site-packages (from Flask<3.1,>=1.0.4->dash) (1.1.0)\n",
      "Requirement already satisfied: six>=1.7.0 in c:\\users\\samukund\\appdata\\local\\continuum\\anaconda3\\lib\\site-packages (from retrying->dash) (1.15.0)\n",
      "Requirement already satisfied: certifi>=2017.4.17 in c:\\users\\samukund\\appdata\\local\\continuum\\anaconda3\\lib\\site-packages (from requests->dash) (2019.9.11)\n",
      "Requirement already satisfied: chardet<3.1.0,>=3.0.2 in c:\\users\\samukund\\appdata\\local\\continuum\\anaconda3\\lib\\site-packages (from requests->dash) (3.0.4)\n",
      "Requirement already satisfied: idna<2.9,>=2.5 in c:\\users\\samukund\\appdata\\local\\continuum\\anaconda3\\lib\\site-packages (from requests->dash) (2.8)\n",
      "Requirement already satisfied: urllib3!=1.25.0,!=1.25.1,<1.26,>=1.21.1 in c:\\users\\samukund\\appdata\\local\\continuum\\anaconda3\\lib\\site-packages (from requests->dash) (1.24.2)\n",
      "Requirement already satisfied: zipp>=0.5 in c:\\users\\samukund\\appdata\\local\\continuum\\anaconda3\\lib\\site-packages (from importlib-metadata; python_version >= \"3.7\"->dash) (0.6.0)\n",
      "Requirement already satisfied: packaging in c:\\users\\samukund\\appdata\\local\\continuum\\anaconda3\\lib\\site-packages (from plotly>=5.0.0->dash) (19.2)\n",
      "Requirement already satisfied: tenacity>=6.2.0 in c:\\users\\samukund\\appdata\\local\\continuum\\anaconda3\\lib\\site-packages (from plotly>=5.0.0->dash) (8.2.3)\n",
      "Requirement already satisfied: MarkupSafe>=0.23 in c:\\users\\samukund\\appdata\\local\\continuum\\anaconda3\\lib\\site-packages (from Jinja2>=2.10.1->Flask<3.1,>=1.0.4->dash) (1.1.1)\n",
      "Requirement already satisfied: more-itertools in c:\\users\\samukund\\appdata\\local\\continuum\\anaconda3\\lib\\site-packages (from zipp>=0.5->importlib-metadata; python_version >= \"3.7\"->dash) (7.2.0)\n",
      "Requirement already satisfied: pyparsing>=2.0.2 in c:\\users\\samukund\\appdata\\local\\continuum\\anaconda3\\lib\\site-packages (from packaging->plotly>=5.0.0->dash) (2.4.2)\n"
     ]
    }
   ],
   "source": [
    "!pip install plotly\n",
    "!pip install dash\n",
    "import plotly.express as px\n",
    "import pandas as pd\n",
    "import datetime"
   ]
  },
  {
   "cell_type": "code",
   "execution_count": 3,
   "metadata": {},
   "outputs": [],
   "source": [
    "present_dt = datetime.datetime.now()\n",
    "present = present_dt.strftime(\"%Y-%m\")"
   ]
  },
  {
   "cell_type": "code",
   "execution_count": 19,
   "metadata": {},
   "outputs": [
    {
     "data": {
      "text/html": [
       "<div>\n",
       "<style scoped>\n",
       "    .dataframe tbody tr th:only-of-type {\n",
       "        vertical-align: middle;\n",
       "    }\n",
       "\n",
       "    .dataframe tbody tr th {\n",
       "        vertical-align: top;\n",
       "    }\n",
       "\n",
       "    .dataframe thead th {\n",
       "        text-align: right;\n",
       "    }\n",
       "</style>\n",
       "<table border=\"1\" class=\"dataframe\">\n",
       "  <thead>\n",
       "    <tr style=\"text-align: right;\">\n",
       "      <th></th>\n",
       "      <th>Type</th>\n",
       "      <th>Start</th>\n",
       "      <th>Finish</th>\n",
       "      <th>Title</th>\n",
       "      <th>Location</th>\n",
       "      <th>Notes</th>\n",
       "    </tr>\n",
       "  </thead>\n",
       "  <tbody>\n",
       "    <tr>\n",
       "      <th>0</th>\n",
       "      <td>Education</td>\n",
       "      <td>2016-09</td>\n",
       "      <td>2020-12</td>\n",
       "      <td>B.S. in Data Science</td>\n",
       "      <td>University of California San Diego</td>\n",
       "      <td></td>\n",
       "    </tr>\n",
       "    <tr>\n",
       "      <th>1</th>\n",
       "      <td>Experience</td>\n",
       "      <td>2018-10</td>\n",
       "      <td>2019-06</td>\n",
       "      <td>Research Assistant/Intern</td>\n",
       "      <td>Computational Neural Data and Dynamics Lab</td>\n",
       "      <td></td>\n",
       "    </tr>\n",
       "    <tr>\n",
       "      <th>2</th>\n",
       "      <td>Experience</td>\n",
       "      <td>2019-06</td>\n",
       "      <td>2019-08</td>\n",
       "      <td>Business Intelligence Internship</td>\n",
       "      <td>Alliant Insurance</td>\n",
       "      <td></td>\n",
       "    </tr>\n",
       "    <tr>\n",
       "      <th>3</th>\n",
       "      <td>Experience</td>\n",
       "      <td>2021-04</td>\n",
       "      <td>2022-09</td>\n",
       "      <td>Business Intelligence Analyst</td>\n",
       "      <td>Liftoff</td>\n",
       "      <td></td>\n",
       "    </tr>\n",
       "    <tr>\n",
       "      <th>4</th>\n",
       "      <td>Experience</td>\n",
       "      <td>2023-03</td>\n",
       "      <td>2024-11</td>\n",
       "      <td>Technical Analyst</td>\n",
       "      <td>Coforge</td>\n",
       "      <td></td>\n",
       "    </tr>\n",
       "    <tr>\n",
       "      <th>5</th>\n",
       "      <td>Project</td>\n",
       "      <td>2018-06</td>\n",
       "      <td>2018-09</td>\n",
       "      <td>BhajanBook Web Application</td>\n",
       "      <td>Sai Center of Tustin</td>\n",
       "      <td></td>\n",
       "    </tr>\n",
       "    <tr>\n",
       "      <th>6</th>\n",
       "      <td>Project</td>\n",
       "      <td>2020-04</td>\n",
       "      <td>2020-06</td>\n",
       "      <td>Red Means Go</td>\n",
       "      <td>University of California San Diego</td>\n",
       "      <td></td>\n",
       "    </tr>\n",
       "  </tbody>\n",
       "</table>\n",
       "</div>"
      ],
      "text/plain": [
       "         Type    Start   Finish                             Title  \\\n",
       "0   Education  2016-09  2020-12              B.S. in Data Science   \n",
       "1  Experience  2018-10  2019-06         Research Assistant/Intern   \n",
       "2  Experience  2019-06  2019-08  Business Intelligence Internship   \n",
       "3  Experience  2021-04  2022-09     Business Intelligence Analyst   \n",
       "4  Experience  2023-03  2024-11                 Technical Analyst   \n",
       "5     Project  2018-06  2018-09        BhajanBook Web Application   \n",
       "6     Project  2020-04  2020-06                      Red Means Go   \n",
       "\n",
       "                                     Location Notes  \n",
       "0          University of California San Diego        \n",
       "1  Computational Neural Data and Dynamics Lab        \n",
       "2                           Alliant Insurance        \n",
       "3                                     Liftoff        \n",
       "4                                     Coforge        \n",
       "5                        Sai Center of Tustin        \n",
       "6          University of California San Diego        "
      ]
     },
     "execution_count": 19,
     "metadata": {},
     "output_type": "execute_result"
    }
   ],
   "source": [
    "df = pd.DataFrame([\n",
    "    dict(Type=\"Education\", Start='2016-09', Finish='2020-12', Title=\"B.S. in Data Science\", Location = \"University of California San Diego\", Notes=\"\"),\n",
    "    dict(Type=\"Experience\", Start='2018-10', Finish='2019-06', Title=\"Research Assistant/Intern\", Location = \"Computational Neural Data and Dynamics Lab\", Notes=\"\"),\n",
    "    dict(Type=\"Experience\", Start='2019-06', Finish='2019-08', Title=\"Business Intelligence Internship\", Location = \"Alliant Insurance\", Notes=\"\"),\n",
    "    dict(Type=\"Experience\", Start='2021-04', Finish='2022-09', Title=\"Business Intelligence Analyst\", Location = \"Liftoff\", Notes=\"\"),\n",
    "    dict(Type=\"Experience\", Start='2023-03', Finish=present, Title=\"Technical Analyst\", Location = \"Coforge\", Notes=\"\"),\n",
    "    dict(Type=\"Project\", Start='2018-06', Finish='2018-09', Title=\"BhajanBook Web Application\", Location = \"Sai Center of Tustin\", Notes=\"\"),\n",
    "    dict(Type=\"Project\", Start='2020-04', Finish='2020-06', Title=\"Red Means Go\", Location = \"University of California San Diego\", Notes=\"\")\n",
    "])\n",
    "\n",
    "df"
   ]
  },
  {
   "cell_type": "code",
   "execution_count": 24,
   "metadata": {},
   "outputs": [
    {
     "data": {
      "application/vnd.plotly.v1+json": {
       "config": {
        "plotlyServerURL": "https://plot.ly"
       },
       "data": [
        {
         "alignmentgroup": "True",
         "base": [
          "2016-09"
         ],
         "customdata": [
          [
           "B.S. in Data Science",
           "University of California San Diego",
           "2016-09",
           "2020-12",
           ""
          ],
          [
           "Research Assistant/Intern",
           "Computational Neural Data and Dynamics Lab",
           "2018-10",
           "2019-06",
           ""
          ],
          [
           "Business Intelligence Internship",
           "Alliant Insurance",
           "2019-06",
           "2019-08",
           ""
          ],
          [
           "Business Intelligence Analyst",
           "Liftoff",
           "2021-04",
           "2022-09",
           ""
          ],
          [
           "Technical Analyst",
           "Coforge",
           "2023-03",
           "2024-11",
           ""
          ],
          [
           "BhajanBook Web Application",
           "Sai Center of Tustin",
           "2018-06",
           "2018-09",
           ""
          ],
          [
           "Red Means Go",
           "University of California San Diego",
           "2020-04",
           "2020-06",
           ""
          ]
         ],
         "hovertemplate": "<b>Title:</b> %{customdata[0]}<br><b>Location:</b> %{customdata[1]}<br><b>Start:</b> %{x}<br><b>Finish:</b> %{x2}<br>%{customdata[2]}",
         "legendgroup": "B.S. in Data Science",
         "marker": {
          "color": "#636efa",
          "pattern": {
           "shape": ""
          }
         },
         "name": "B.S. in Data Science",
         "offsetgroup": "B.S. in Data Science",
         "orientation": "h",
         "showlegend": true,
         "textposition": "auto",
         "type": "bar",
         "x": [
          134092800000
         ],
         "xaxis": "x",
         "y": [
          "Education"
         ],
         "yaxis": "y"
        },
        {
         "alignmentgroup": "True",
         "base": [
          "2018-10"
         ],
         "customdata": [
          [
           "B.S. in Data Science",
           "University of California San Diego",
           "2016-09",
           "2020-12",
           ""
          ],
          [
           "Research Assistant/Intern",
           "Computational Neural Data and Dynamics Lab",
           "2018-10",
           "2019-06",
           ""
          ],
          [
           "Business Intelligence Internship",
           "Alliant Insurance",
           "2019-06",
           "2019-08",
           ""
          ],
          [
           "Business Intelligence Analyst",
           "Liftoff",
           "2021-04",
           "2022-09",
           ""
          ],
          [
           "Technical Analyst",
           "Coforge",
           "2023-03",
           "2024-11",
           ""
          ],
          [
           "BhajanBook Web Application",
           "Sai Center of Tustin",
           "2018-06",
           "2018-09",
           ""
          ],
          [
           "Red Means Go",
           "University of California San Diego",
           "2020-04",
           "2020-06",
           ""
          ]
         ],
         "hovertemplate": "<b>Title:</b> %{customdata[0]}<br><b>Location:</b> %{customdata[1]}<br><b>Start:</b> %{x}<br><b>Finish:</b> %{x2}<br>%{customdata[2]}",
         "legendgroup": "Research Assistant/Intern",
         "marker": {
          "color": "#EF553B",
          "pattern": {
           "shape": ""
          }
         },
         "name": "Research Assistant/Intern",
         "offsetgroup": "Research Assistant/Intern",
         "orientation": "h",
         "showlegend": true,
         "textposition": "auto",
         "type": "bar",
         "x": [
          20995200000
         ],
         "xaxis": "x",
         "y": [
          "Experience"
         ],
         "yaxis": "y"
        },
        {
         "alignmentgroup": "True",
         "base": [
          "2019-06"
         ],
         "customdata": [
          [
           "B.S. in Data Science",
           "University of California San Diego",
           "2016-09",
           "2020-12",
           ""
          ],
          [
           "Research Assistant/Intern",
           "Computational Neural Data and Dynamics Lab",
           "2018-10",
           "2019-06",
           ""
          ],
          [
           "Business Intelligence Internship",
           "Alliant Insurance",
           "2019-06",
           "2019-08",
           ""
          ],
          [
           "Business Intelligence Analyst",
           "Liftoff",
           "2021-04",
           "2022-09",
           ""
          ],
          [
           "Technical Analyst",
           "Coforge",
           "2023-03",
           "2024-11",
           ""
          ],
          [
           "BhajanBook Web Application",
           "Sai Center of Tustin",
           "2018-06",
           "2018-09",
           ""
          ],
          [
           "Red Means Go",
           "University of California San Diego",
           "2020-04",
           "2020-06",
           ""
          ]
         ],
         "hovertemplate": "<b>Title:</b> %{customdata[0]}<br><b>Location:</b> %{customdata[1]}<br><b>Start:</b> %{x}<br><b>Finish:</b> %{x2}<br>%{customdata[2]}",
         "legendgroup": "Business Intelligence Internship",
         "marker": {
          "color": "#00cc96",
          "pattern": {
           "shape": ""
          }
         },
         "name": "Business Intelligence Internship",
         "offsetgroup": "Business Intelligence Internship",
         "orientation": "h",
         "showlegend": true,
         "textposition": "auto",
         "type": "bar",
         "x": [
          5270400000
         ],
         "xaxis": "x",
         "y": [
          "Experience"
         ],
         "yaxis": "y"
        },
        {
         "alignmentgroup": "True",
         "base": [
          "2021-04"
         ],
         "customdata": [
          [
           "B.S. in Data Science",
           "University of California San Diego",
           "2016-09",
           "2020-12",
           ""
          ],
          [
           "Research Assistant/Intern",
           "Computational Neural Data and Dynamics Lab",
           "2018-10",
           "2019-06",
           ""
          ],
          [
           "Business Intelligence Internship",
           "Alliant Insurance",
           "2019-06",
           "2019-08",
           ""
          ],
          [
           "Business Intelligence Analyst",
           "Liftoff",
           "2021-04",
           "2022-09",
           ""
          ],
          [
           "Technical Analyst",
           "Coforge",
           "2023-03",
           "2024-11",
           ""
          ],
          [
           "BhajanBook Web Application",
           "Sai Center of Tustin",
           "2018-06",
           "2018-09",
           ""
          ],
          [
           "Red Means Go",
           "University of California San Diego",
           "2020-04",
           "2020-06",
           ""
          ]
         ],
         "hovertemplate": "<b>Title:</b> %{customdata[0]}<br><b>Location:</b> %{customdata[1]}<br><b>Start:</b> %{x}<br><b>Finish:</b> %{x2}<br>%{customdata[2]}",
         "legendgroup": "Business Intelligence Analyst",
         "marker": {
          "color": "#ab63fa",
          "pattern": {
           "shape": ""
          }
         },
         "name": "Business Intelligence Analyst",
         "offsetgroup": "Business Intelligence Analyst",
         "orientation": "h",
         "showlegend": true,
         "textposition": "auto",
         "type": "bar",
         "x": [
          44755200000
         ],
         "xaxis": "x",
         "y": [
          "Experience"
         ],
         "yaxis": "y"
        },
        {
         "alignmentgroup": "True",
         "base": [
          "2023-03"
         ],
         "customdata": [
          [
           "B.S. in Data Science",
           "University of California San Diego",
           "2016-09",
           "2020-12",
           ""
          ],
          [
           "Research Assistant/Intern",
           "Computational Neural Data and Dynamics Lab",
           "2018-10",
           "2019-06",
           ""
          ],
          [
           "Business Intelligence Internship",
           "Alliant Insurance",
           "2019-06",
           "2019-08",
           ""
          ],
          [
           "Business Intelligence Analyst",
           "Liftoff",
           "2021-04",
           "2022-09",
           ""
          ],
          [
           "Technical Analyst",
           "Coforge",
           "2023-03",
           "2024-11",
           ""
          ],
          [
           "BhajanBook Web Application",
           "Sai Center of Tustin",
           "2018-06",
           "2018-09",
           ""
          ],
          [
           "Red Means Go",
           "University of California San Diego",
           "2020-04",
           "2020-06",
           ""
          ]
         ],
         "hovertemplate": "<b>Title:</b> %{customdata[0]}<br><b>Location:</b> %{customdata[1]}<br><b>Start:</b> %{x}<br><b>Finish:</b> %{x2}<br>%{customdata[2]}",
         "legendgroup": "Technical Analyst",
         "marker": {
          "color": "#FFA15A",
          "pattern": {
           "shape": ""
          }
         },
         "name": "Technical Analyst",
         "offsetgroup": "Technical Analyst",
         "orientation": "h",
         "showlegend": true,
         "textposition": "auto",
         "type": "bar",
         "x": [
          52790400000
         ],
         "xaxis": "x",
         "y": [
          "Experience"
         ],
         "yaxis": "y"
        },
        {
         "alignmentgroup": "True",
         "base": [
          "2018-06"
         ],
         "customdata": [
          [
           "B.S. in Data Science",
           "University of California San Diego",
           "2016-09",
           "2020-12",
           ""
          ],
          [
           "Research Assistant/Intern",
           "Computational Neural Data and Dynamics Lab",
           "2018-10",
           "2019-06",
           ""
          ],
          [
           "Business Intelligence Internship",
           "Alliant Insurance",
           "2019-06",
           "2019-08",
           ""
          ],
          [
           "Business Intelligence Analyst",
           "Liftoff",
           "2021-04",
           "2022-09",
           ""
          ],
          [
           "Technical Analyst",
           "Coforge",
           "2023-03",
           "2024-11",
           ""
          ],
          [
           "BhajanBook Web Application",
           "Sai Center of Tustin",
           "2018-06",
           "2018-09",
           ""
          ],
          [
           "Red Means Go",
           "University of California San Diego",
           "2020-04",
           "2020-06",
           ""
          ]
         ],
         "hovertemplate": "<b>Title:</b> %{customdata[0]}<br><b>Location:</b> %{customdata[1]}<br><b>Start:</b> %{x}<br><b>Finish:</b> %{x2}<br>%{customdata[2]}",
         "legendgroup": "BhajanBook Web Application",
         "marker": {
          "color": "#19d3f3",
          "pattern": {
           "shape": ""
          }
         },
         "name": "BhajanBook Web Application",
         "offsetgroup": "BhajanBook Web Application",
         "orientation": "h",
         "showlegend": true,
         "textposition": "auto",
         "type": "bar",
         "x": [
          7948800000
         ],
         "xaxis": "x",
         "y": [
          "Project"
         ],
         "yaxis": "y"
        },
        {
         "alignmentgroup": "True",
         "base": [
          "2020-04"
         ],
         "customdata": [
          [
           "B.S. in Data Science",
           "University of California San Diego",
           "2016-09",
           "2020-12",
           ""
          ],
          [
           "Research Assistant/Intern",
           "Computational Neural Data and Dynamics Lab",
           "2018-10",
           "2019-06",
           ""
          ],
          [
           "Business Intelligence Internship",
           "Alliant Insurance",
           "2019-06",
           "2019-08",
           ""
          ],
          [
           "Business Intelligence Analyst",
           "Liftoff",
           "2021-04",
           "2022-09",
           ""
          ],
          [
           "Technical Analyst",
           "Coforge",
           "2023-03",
           "2024-11",
           ""
          ],
          [
           "BhajanBook Web Application",
           "Sai Center of Tustin",
           "2018-06",
           "2018-09",
           ""
          ],
          [
           "Red Means Go",
           "University of California San Diego",
           "2020-04",
           "2020-06",
           ""
          ]
         ],
         "hovertemplate": "<b>Title:</b> %{customdata[0]}<br><b>Location:</b> %{customdata[1]}<br><b>Start:</b> %{x}<br><b>Finish:</b> %{x2}<br>%{customdata[2]}",
         "legendgroup": "Red Means Go",
         "marker": {
          "color": "#FF6692",
          "pattern": {
           "shape": ""
          }
         },
         "name": "Red Means Go",
         "offsetgroup": "Red Means Go",
         "orientation": "h",
         "showlegend": true,
         "textposition": "auto",
         "type": "bar",
         "x": [
          5270400000
         ],
         "xaxis": "x",
         "y": [
          "Project"
         ],
         "yaxis": "y"
        }
       ],
       "layout": {
        "barmode": "overlay",
        "legend": {
         "title": {
          "text": "Title"
         },
         "tracegroupgap": 0
        },
        "margin": {
         "t": 60
        },
        "template": {
         "data": {
          "bar": [
           {
            "error_x": {
             "color": "#2a3f5f"
            },
            "error_y": {
             "color": "#2a3f5f"
            },
            "marker": {
             "line": {
              "color": "#E5ECF6",
              "width": 0.5
             },
             "pattern": {
              "fillmode": "overlay",
              "size": 10,
              "solidity": 0.2
             }
            },
            "type": "bar"
           }
          ],
          "barpolar": [
           {
            "marker": {
             "line": {
              "color": "#E5ECF6",
              "width": 0.5
             },
             "pattern": {
              "fillmode": "overlay",
              "size": 10,
              "solidity": 0.2
             }
            },
            "type": "barpolar"
           }
          ],
          "carpet": [
           {
            "aaxis": {
             "endlinecolor": "#2a3f5f",
             "gridcolor": "white",
             "linecolor": "white",
             "minorgridcolor": "white",
             "startlinecolor": "#2a3f5f"
            },
            "baxis": {
             "endlinecolor": "#2a3f5f",
             "gridcolor": "white",
             "linecolor": "white",
             "minorgridcolor": "white",
             "startlinecolor": "#2a3f5f"
            },
            "type": "carpet"
           }
          ],
          "choropleth": [
           {
            "colorbar": {
             "outlinewidth": 0,
             "ticks": ""
            },
            "type": "choropleth"
           }
          ],
          "contour": [
           {
            "colorbar": {
             "outlinewidth": 0,
             "ticks": ""
            },
            "colorscale": [
             [
              0,
              "#0d0887"
             ],
             [
              0.1111111111111111,
              "#46039f"
             ],
             [
              0.2222222222222222,
              "#7201a8"
             ],
             [
              0.3333333333333333,
              "#9c179e"
             ],
             [
              0.4444444444444444,
              "#bd3786"
             ],
             [
              0.5555555555555556,
              "#d8576b"
             ],
             [
              0.6666666666666666,
              "#ed7953"
             ],
             [
              0.7777777777777778,
              "#fb9f3a"
             ],
             [
              0.8888888888888888,
              "#fdca26"
             ],
             [
              1,
              "#f0f921"
             ]
            ],
            "type": "contour"
           }
          ],
          "contourcarpet": [
           {
            "colorbar": {
             "outlinewidth": 0,
             "ticks": ""
            },
            "type": "contourcarpet"
           }
          ],
          "heatmap": [
           {
            "colorbar": {
             "outlinewidth": 0,
             "ticks": ""
            },
            "colorscale": [
             [
              0,
              "#0d0887"
             ],
             [
              0.1111111111111111,
              "#46039f"
             ],
             [
              0.2222222222222222,
              "#7201a8"
             ],
             [
              0.3333333333333333,
              "#9c179e"
             ],
             [
              0.4444444444444444,
              "#bd3786"
             ],
             [
              0.5555555555555556,
              "#d8576b"
             ],
             [
              0.6666666666666666,
              "#ed7953"
             ],
             [
              0.7777777777777778,
              "#fb9f3a"
             ],
             [
              0.8888888888888888,
              "#fdca26"
             ],
             [
              1,
              "#f0f921"
             ]
            ],
            "type": "heatmap"
           }
          ],
          "heatmapgl": [
           {
            "colorbar": {
             "outlinewidth": 0,
             "ticks": ""
            },
            "colorscale": [
             [
              0,
              "#0d0887"
             ],
             [
              0.1111111111111111,
              "#46039f"
             ],
             [
              0.2222222222222222,
              "#7201a8"
             ],
             [
              0.3333333333333333,
              "#9c179e"
             ],
             [
              0.4444444444444444,
              "#bd3786"
             ],
             [
              0.5555555555555556,
              "#d8576b"
             ],
             [
              0.6666666666666666,
              "#ed7953"
             ],
             [
              0.7777777777777778,
              "#fb9f3a"
             ],
             [
              0.8888888888888888,
              "#fdca26"
             ],
             [
              1,
              "#f0f921"
             ]
            ],
            "type": "heatmapgl"
           }
          ],
          "histogram": [
           {
            "marker": {
             "pattern": {
              "fillmode": "overlay",
              "size": 10,
              "solidity": 0.2
             }
            },
            "type": "histogram"
           }
          ],
          "histogram2d": [
           {
            "colorbar": {
             "outlinewidth": 0,
             "ticks": ""
            },
            "colorscale": [
             [
              0,
              "#0d0887"
             ],
             [
              0.1111111111111111,
              "#46039f"
             ],
             [
              0.2222222222222222,
              "#7201a8"
             ],
             [
              0.3333333333333333,
              "#9c179e"
             ],
             [
              0.4444444444444444,
              "#bd3786"
             ],
             [
              0.5555555555555556,
              "#d8576b"
             ],
             [
              0.6666666666666666,
              "#ed7953"
             ],
             [
              0.7777777777777778,
              "#fb9f3a"
             ],
             [
              0.8888888888888888,
              "#fdca26"
             ],
             [
              1,
              "#f0f921"
             ]
            ],
            "type": "histogram2d"
           }
          ],
          "histogram2dcontour": [
           {
            "colorbar": {
             "outlinewidth": 0,
             "ticks": ""
            },
            "colorscale": [
             [
              0,
              "#0d0887"
             ],
             [
              0.1111111111111111,
              "#46039f"
             ],
             [
              0.2222222222222222,
              "#7201a8"
             ],
             [
              0.3333333333333333,
              "#9c179e"
             ],
             [
              0.4444444444444444,
              "#bd3786"
             ],
             [
              0.5555555555555556,
              "#d8576b"
             ],
             [
              0.6666666666666666,
              "#ed7953"
             ],
             [
              0.7777777777777778,
              "#fb9f3a"
             ],
             [
              0.8888888888888888,
              "#fdca26"
             ],
             [
              1,
              "#f0f921"
             ]
            ],
            "type": "histogram2dcontour"
           }
          ],
          "mesh3d": [
           {
            "colorbar": {
             "outlinewidth": 0,
             "ticks": ""
            },
            "type": "mesh3d"
           }
          ],
          "parcoords": [
           {
            "line": {
             "colorbar": {
              "outlinewidth": 0,
              "ticks": ""
             }
            },
            "type": "parcoords"
           }
          ],
          "pie": [
           {
            "automargin": true,
            "type": "pie"
           }
          ],
          "scatter": [
           {
            "fillpattern": {
             "fillmode": "overlay",
             "size": 10,
             "solidity": 0.2
            },
            "type": "scatter"
           }
          ],
          "scatter3d": [
           {
            "line": {
             "colorbar": {
              "outlinewidth": 0,
              "ticks": ""
             }
            },
            "marker": {
             "colorbar": {
              "outlinewidth": 0,
              "ticks": ""
             }
            },
            "type": "scatter3d"
           }
          ],
          "scattercarpet": [
           {
            "marker": {
             "colorbar": {
              "outlinewidth": 0,
              "ticks": ""
             }
            },
            "type": "scattercarpet"
           }
          ],
          "scattergeo": [
           {
            "marker": {
             "colorbar": {
              "outlinewidth": 0,
              "ticks": ""
             }
            },
            "type": "scattergeo"
           }
          ],
          "scattergl": [
           {
            "marker": {
             "colorbar": {
              "outlinewidth": 0,
              "ticks": ""
             }
            },
            "type": "scattergl"
           }
          ],
          "scattermapbox": [
           {
            "marker": {
             "colorbar": {
              "outlinewidth": 0,
              "ticks": ""
             }
            },
            "type": "scattermapbox"
           }
          ],
          "scatterpolar": [
           {
            "marker": {
             "colorbar": {
              "outlinewidth": 0,
              "ticks": ""
             }
            },
            "type": "scatterpolar"
           }
          ],
          "scatterpolargl": [
           {
            "marker": {
             "colorbar": {
              "outlinewidth": 0,
              "ticks": ""
             }
            },
            "type": "scatterpolargl"
           }
          ],
          "scatterternary": [
           {
            "marker": {
             "colorbar": {
              "outlinewidth": 0,
              "ticks": ""
             }
            },
            "type": "scatterternary"
           }
          ],
          "surface": [
           {
            "colorbar": {
             "outlinewidth": 0,
             "ticks": ""
            },
            "colorscale": [
             [
              0,
              "#0d0887"
             ],
             [
              0.1111111111111111,
              "#46039f"
             ],
             [
              0.2222222222222222,
              "#7201a8"
             ],
             [
              0.3333333333333333,
              "#9c179e"
             ],
             [
              0.4444444444444444,
              "#bd3786"
             ],
             [
              0.5555555555555556,
              "#d8576b"
             ],
             [
              0.6666666666666666,
              "#ed7953"
             ],
             [
              0.7777777777777778,
              "#fb9f3a"
             ],
             [
              0.8888888888888888,
              "#fdca26"
             ],
             [
              1,
              "#f0f921"
             ]
            ],
            "type": "surface"
           }
          ],
          "table": [
           {
            "cells": {
             "fill": {
              "color": "#EBF0F8"
             },
             "line": {
              "color": "white"
             }
            },
            "header": {
             "fill": {
              "color": "#C8D4E3"
             },
             "line": {
              "color": "white"
             }
            },
            "type": "table"
           }
          ]
         },
         "layout": {
          "annotationdefaults": {
           "arrowcolor": "#2a3f5f",
           "arrowhead": 0,
           "arrowwidth": 1
          },
          "autotypenumbers": "strict",
          "coloraxis": {
           "colorbar": {
            "outlinewidth": 0,
            "ticks": ""
           }
          },
          "colorscale": {
           "diverging": [
            [
             0,
             "#8e0152"
            ],
            [
             0.1,
             "#c51b7d"
            ],
            [
             0.2,
             "#de77ae"
            ],
            [
             0.3,
             "#f1b6da"
            ],
            [
             0.4,
             "#fde0ef"
            ],
            [
             0.5,
             "#f7f7f7"
            ],
            [
             0.6,
             "#e6f5d0"
            ],
            [
             0.7,
             "#b8e186"
            ],
            [
             0.8,
             "#7fbc41"
            ],
            [
             0.9,
             "#4d9221"
            ],
            [
             1,
             "#276419"
            ]
           ],
           "sequential": [
            [
             0,
             "#0d0887"
            ],
            [
             0.1111111111111111,
             "#46039f"
            ],
            [
             0.2222222222222222,
             "#7201a8"
            ],
            [
             0.3333333333333333,
             "#9c179e"
            ],
            [
             0.4444444444444444,
             "#bd3786"
            ],
            [
             0.5555555555555556,
             "#d8576b"
            ],
            [
             0.6666666666666666,
             "#ed7953"
            ],
            [
             0.7777777777777778,
             "#fb9f3a"
            ],
            [
             0.8888888888888888,
             "#fdca26"
            ],
            [
             1,
             "#f0f921"
            ]
           ],
           "sequentialminus": [
            [
             0,
             "#0d0887"
            ],
            [
             0.1111111111111111,
             "#46039f"
            ],
            [
             0.2222222222222222,
             "#7201a8"
            ],
            [
             0.3333333333333333,
             "#9c179e"
            ],
            [
             0.4444444444444444,
             "#bd3786"
            ],
            [
             0.5555555555555556,
             "#d8576b"
            ],
            [
             0.6666666666666666,
             "#ed7953"
            ],
            [
             0.7777777777777778,
             "#fb9f3a"
            ],
            [
             0.8888888888888888,
             "#fdca26"
            ],
            [
             1,
             "#f0f921"
            ]
           ]
          },
          "colorway": [
           "#636efa",
           "#EF553B",
           "#00cc96",
           "#ab63fa",
           "#FFA15A",
           "#19d3f3",
           "#FF6692",
           "#B6E880",
           "#FF97FF",
           "#FECB52"
          ],
          "font": {
           "color": "#2a3f5f"
          },
          "geo": {
           "bgcolor": "white",
           "lakecolor": "white",
           "landcolor": "#E5ECF6",
           "showlakes": true,
           "showland": true,
           "subunitcolor": "white"
          },
          "hoverlabel": {
           "align": "left"
          },
          "hovermode": "closest",
          "mapbox": {
           "style": "light"
          },
          "paper_bgcolor": "white",
          "plot_bgcolor": "#E5ECF6",
          "polar": {
           "angularaxis": {
            "gridcolor": "white",
            "linecolor": "white",
            "ticks": ""
           },
           "bgcolor": "#E5ECF6",
           "radialaxis": {
            "gridcolor": "white",
            "linecolor": "white",
            "ticks": ""
           }
          },
          "scene": {
           "xaxis": {
            "backgroundcolor": "#E5ECF6",
            "gridcolor": "white",
            "gridwidth": 2,
            "linecolor": "white",
            "showbackground": true,
            "ticks": "",
            "zerolinecolor": "white"
           },
           "yaxis": {
            "backgroundcolor": "#E5ECF6",
            "gridcolor": "white",
            "gridwidth": 2,
            "linecolor": "white",
            "showbackground": true,
            "ticks": "",
            "zerolinecolor": "white"
           },
           "zaxis": {
            "backgroundcolor": "#E5ECF6",
            "gridcolor": "white",
            "gridwidth": 2,
            "linecolor": "white",
            "showbackground": true,
            "ticks": "",
            "zerolinecolor": "white"
           }
          },
          "shapedefaults": {
           "line": {
            "color": "#2a3f5f"
           }
          },
          "ternary": {
           "aaxis": {
            "gridcolor": "white",
            "linecolor": "white",
            "ticks": ""
           },
           "baxis": {
            "gridcolor": "white",
            "linecolor": "white",
            "ticks": ""
           },
           "bgcolor": "#E5ECF6",
           "caxis": {
            "gridcolor": "white",
            "linecolor": "white",
            "ticks": ""
           }
          },
          "title": {
           "x": 0.05
          },
          "xaxis": {
           "automargin": true,
           "gridcolor": "white",
           "linecolor": "white",
           "ticks": "",
           "title": {
            "standoff": 15
           },
           "zerolinecolor": "white",
           "zerolinewidth": 2
          },
          "yaxis": {
           "automargin": true,
           "gridcolor": "white",
           "linecolor": "white",
           "ticks": "",
           "title": {
            "standoff": 15
           },
           "zerolinecolor": "white",
           "zerolinewidth": 2
          }
         }
        },
        "xaxis": {
         "anchor": "y",
         "domain": [
          0,
          1
         ],
         "type": "date"
        },
        "yaxis": {
         "anchor": "x",
         "autorange": "reversed",
         "domain": [
          0,
          1
         ],
         "title": {
          "text": "Type"
         }
        }
       }
      },
      "text/html": [
       "<div>                            <div id=\"083e7cac-9410-4ccb-b4f1-ec93d3581498\" class=\"plotly-graph-div\" style=\"height:525px; width:100%;\"></div>            <script type=\"text/javascript\">                require([\"plotly\"], function(Plotly) {                    window.PLOTLYENV=window.PLOTLYENV || {};                                    if (document.getElementById(\"083e7cac-9410-4ccb-b4f1-ec93d3581498\")) {                    Plotly.newPlot(                        \"083e7cac-9410-4ccb-b4f1-ec93d3581498\",                        [{\"alignmentgroup\":\"True\",\"base\":[\"2016-09\"],\"hovertemplate\":\"\\u003cb\\u003eTitle:\\u003c\\u002fb\\u003e %{customdata[0]}\\u003cbr\\u003e\\u003cb\\u003eLocation:\\u003c\\u002fb\\u003e %{customdata[1]}\\u003cbr\\u003e\\u003cb\\u003eStart:\\u003c\\u002fb\\u003e %{x}\\u003cbr\\u003e\\u003cb\\u003eFinish:\\u003c\\u002fb\\u003e %{x2}\\u003cbr\\u003e%{customdata[2]}\",\"legendgroup\":\"B.S. in Data Science\",\"marker\":{\"color\":\"#636efa\",\"pattern\":{\"shape\":\"\"}},\"name\":\"B.S. in Data Science\",\"offsetgroup\":\"B.S. in Data Science\",\"orientation\":\"h\",\"showlegend\":true,\"textposition\":\"auto\",\"x\":[134092800000.0],\"xaxis\":\"x\",\"y\":[\"Education\"],\"yaxis\":\"y\",\"type\":\"bar\",\"customdata\":[[\"B.S. in Data Science\",\"University of California San Diego\",\"2016-09\",\"2020-12\",\"\"],[\"Research Assistant\\u002fIntern\",\"Computational Neural Data and Dynamics Lab\",\"2018-10\",\"2019-06\",\"\"],[\"Business Intelligence Internship\",\"Alliant Insurance\",\"2019-06\",\"2019-08\",\"\"],[\"Business Intelligence Analyst\",\"Liftoff\",\"2021-04\",\"2022-09\",\"\"],[\"Technical Analyst\",\"Coforge\",\"2023-03\",\"2024-11\",\"\"],[\"BhajanBook Web Application\",\"Sai Center of Tustin\",\"2018-06\",\"2018-09\",\"\"],[\"Red Means Go\",\"University of California San Diego\",\"2020-04\",\"2020-06\",\"\"]]},{\"alignmentgroup\":\"True\",\"base\":[\"2018-10\"],\"hovertemplate\":\"\\u003cb\\u003eTitle:\\u003c\\u002fb\\u003e %{customdata[0]}\\u003cbr\\u003e\\u003cb\\u003eLocation:\\u003c\\u002fb\\u003e %{customdata[1]}\\u003cbr\\u003e\\u003cb\\u003eStart:\\u003c\\u002fb\\u003e %{x}\\u003cbr\\u003e\\u003cb\\u003eFinish:\\u003c\\u002fb\\u003e %{x2}\\u003cbr\\u003e%{customdata[2]}\",\"legendgroup\":\"Research Assistant\\u002fIntern\",\"marker\":{\"color\":\"#EF553B\",\"pattern\":{\"shape\":\"\"}},\"name\":\"Research Assistant\\u002fIntern\",\"offsetgroup\":\"Research Assistant\\u002fIntern\",\"orientation\":\"h\",\"showlegend\":true,\"textposition\":\"auto\",\"x\":[20995200000.0],\"xaxis\":\"x\",\"y\":[\"Experience\"],\"yaxis\":\"y\",\"type\":\"bar\",\"customdata\":[[\"B.S. in Data Science\",\"University of California San Diego\",\"2016-09\",\"2020-12\",\"\"],[\"Research Assistant\\u002fIntern\",\"Computational Neural Data and Dynamics Lab\",\"2018-10\",\"2019-06\",\"\"],[\"Business Intelligence Internship\",\"Alliant Insurance\",\"2019-06\",\"2019-08\",\"\"],[\"Business Intelligence Analyst\",\"Liftoff\",\"2021-04\",\"2022-09\",\"\"],[\"Technical Analyst\",\"Coforge\",\"2023-03\",\"2024-11\",\"\"],[\"BhajanBook Web Application\",\"Sai Center of Tustin\",\"2018-06\",\"2018-09\",\"\"],[\"Red Means Go\",\"University of California San Diego\",\"2020-04\",\"2020-06\",\"\"]]},{\"alignmentgroup\":\"True\",\"base\":[\"2019-06\"],\"hovertemplate\":\"\\u003cb\\u003eTitle:\\u003c\\u002fb\\u003e %{customdata[0]}\\u003cbr\\u003e\\u003cb\\u003eLocation:\\u003c\\u002fb\\u003e %{customdata[1]}\\u003cbr\\u003e\\u003cb\\u003eStart:\\u003c\\u002fb\\u003e %{x}\\u003cbr\\u003e\\u003cb\\u003eFinish:\\u003c\\u002fb\\u003e %{x2}\\u003cbr\\u003e%{customdata[2]}\",\"legendgroup\":\"Business Intelligence Internship\",\"marker\":{\"color\":\"#00cc96\",\"pattern\":{\"shape\":\"\"}},\"name\":\"Business Intelligence Internship\",\"offsetgroup\":\"Business Intelligence Internship\",\"orientation\":\"h\",\"showlegend\":true,\"textposition\":\"auto\",\"x\":[5270400000.0],\"xaxis\":\"x\",\"y\":[\"Experience\"],\"yaxis\":\"y\",\"type\":\"bar\",\"customdata\":[[\"B.S. in Data Science\",\"University of California San Diego\",\"2016-09\",\"2020-12\",\"\"],[\"Research Assistant\\u002fIntern\",\"Computational Neural Data and Dynamics Lab\",\"2018-10\",\"2019-06\",\"\"],[\"Business Intelligence Internship\",\"Alliant Insurance\",\"2019-06\",\"2019-08\",\"\"],[\"Business Intelligence Analyst\",\"Liftoff\",\"2021-04\",\"2022-09\",\"\"],[\"Technical Analyst\",\"Coforge\",\"2023-03\",\"2024-11\",\"\"],[\"BhajanBook Web Application\",\"Sai Center of Tustin\",\"2018-06\",\"2018-09\",\"\"],[\"Red Means Go\",\"University of California San Diego\",\"2020-04\",\"2020-06\",\"\"]]},{\"alignmentgroup\":\"True\",\"base\":[\"2021-04\"],\"hovertemplate\":\"\\u003cb\\u003eTitle:\\u003c\\u002fb\\u003e %{customdata[0]}\\u003cbr\\u003e\\u003cb\\u003eLocation:\\u003c\\u002fb\\u003e %{customdata[1]}\\u003cbr\\u003e\\u003cb\\u003eStart:\\u003c\\u002fb\\u003e %{x}\\u003cbr\\u003e\\u003cb\\u003eFinish:\\u003c\\u002fb\\u003e %{x2}\\u003cbr\\u003e%{customdata[2]}\",\"legendgroup\":\"Business Intelligence Analyst\",\"marker\":{\"color\":\"#ab63fa\",\"pattern\":{\"shape\":\"\"}},\"name\":\"Business Intelligence Analyst\",\"offsetgroup\":\"Business Intelligence Analyst\",\"orientation\":\"h\",\"showlegend\":true,\"textposition\":\"auto\",\"x\":[44755200000.0],\"xaxis\":\"x\",\"y\":[\"Experience\"],\"yaxis\":\"y\",\"type\":\"bar\",\"customdata\":[[\"B.S. in Data Science\",\"University of California San Diego\",\"2016-09\",\"2020-12\",\"\"],[\"Research Assistant\\u002fIntern\",\"Computational Neural Data and Dynamics Lab\",\"2018-10\",\"2019-06\",\"\"],[\"Business Intelligence Internship\",\"Alliant Insurance\",\"2019-06\",\"2019-08\",\"\"],[\"Business Intelligence Analyst\",\"Liftoff\",\"2021-04\",\"2022-09\",\"\"],[\"Technical Analyst\",\"Coforge\",\"2023-03\",\"2024-11\",\"\"],[\"BhajanBook Web Application\",\"Sai Center of Tustin\",\"2018-06\",\"2018-09\",\"\"],[\"Red Means Go\",\"University of California San Diego\",\"2020-04\",\"2020-06\",\"\"]]},{\"alignmentgroup\":\"True\",\"base\":[\"2023-03\"],\"hovertemplate\":\"\\u003cb\\u003eTitle:\\u003c\\u002fb\\u003e %{customdata[0]}\\u003cbr\\u003e\\u003cb\\u003eLocation:\\u003c\\u002fb\\u003e %{customdata[1]}\\u003cbr\\u003e\\u003cb\\u003eStart:\\u003c\\u002fb\\u003e %{x}\\u003cbr\\u003e\\u003cb\\u003eFinish:\\u003c\\u002fb\\u003e %{x2}\\u003cbr\\u003e%{customdata[2]}\",\"legendgroup\":\"Technical Analyst\",\"marker\":{\"color\":\"#FFA15A\",\"pattern\":{\"shape\":\"\"}},\"name\":\"Technical Analyst\",\"offsetgroup\":\"Technical Analyst\",\"orientation\":\"h\",\"showlegend\":true,\"textposition\":\"auto\",\"x\":[52790400000.0],\"xaxis\":\"x\",\"y\":[\"Experience\"],\"yaxis\":\"y\",\"type\":\"bar\",\"customdata\":[[\"B.S. in Data Science\",\"University of California San Diego\",\"2016-09\",\"2020-12\",\"\"],[\"Research Assistant\\u002fIntern\",\"Computational Neural Data and Dynamics Lab\",\"2018-10\",\"2019-06\",\"\"],[\"Business Intelligence Internship\",\"Alliant Insurance\",\"2019-06\",\"2019-08\",\"\"],[\"Business Intelligence Analyst\",\"Liftoff\",\"2021-04\",\"2022-09\",\"\"],[\"Technical Analyst\",\"Coforge\",\"2023-03\",\"2024-11\",\"\"],[\"BhajanBook Web Application\",\"Sai Center of Tustin\",\"2018-06\",\"2018-09\",\"\"],[\"Red Means Go\",\"University of California San Diego\",\"2020-04\",\"2020-06\",\"\"]]},{\"alignmentgroup\":\"True\",\"base\":[\"2018-06\"],\"hovertemplate\":\"\\u003cb\\u003eTitle:\\u003c\\u002fb\\u003e %{customdata[0]}\\u003cbr\\u003e\\u003cb\\u003eLocation:\\u003c\\u002fb\\u003e %{customdata[1]}\\u003cbr\\u003e\\u003cb\\u003eStart:\\u003c\\u002fb\\u003e %{x}\\u003cbr\\u003e\\u003cb\\u003eFinish:\\u003c\\u002fb\\u003e %{x2}\\u003cbr\\u003e%{customdata[2]}\",\"legendgroup\":\"BhajanBook Web Application\",\"marker\":{\"color\":\"#19d3f3\",\"pattern\":{\"shape\":\"\"}},\"name\":\"BhajanBook Web Application\",\"offsetgroup\":\"BhajanBook Web Application\",\"orientation\":\"h\",\"showlegend\":true,\"textposition\":\"auto\",\"x\":[7948800000.0],\"xaxis\":\"x\",\"y\":[\"Project\"],\"yaxis\":\"y\",\"type\":\"bar\",\"customdata\":[[\"B.S. in Data Science\",\"University of California San Diego\",\"2016-09\",\"2020-12\",\"\"],[\"Research Assistant\\u002fIntern\",\"Computational Neural Data and Dynamics Lab\",\"2018-10\",\"2019-06\",\"\"],[\"Business Intelligence Internship\",\"Alliant Insurance\",\"2019-06\",\"2019-08\",\"\"],[\"Business Intelligence Analyst\",\"Liftoff\",\"2021-04\",\"2022-09\",\"\"],[\"Technical Analyst\",\"Coforge\",\"2023-03\",\"2024-11\",\"\"],[\"BhajanBook Web Application\",\"Sai Center of Tustin\",\"2018-06\",\"2018-09\",\"\"],[\"Red Means Go\",\"University of California San Diego\",\"2020-04\",\"2020-06\",\"\"]]},{\"alignmentgroup\":\"True\",\"base\":[\"2020-04\"],\"hovertemplate\":\"\\u003cb\\u003eTitle:\\u003c\\u002fb\\u003e %{customdata[0]}\\u003cbr\\u003e\\u003cb\\u003eLocation:\\u003c\\u002fb\\u003e %{customdata[1]}\\u003cbr\\u003e\\u003cb\\u003eStart:\\u003c\\u002fb\\u003e %{x}\\u003cbr\\u003e\\u003cb\\u003eFinish:\\u003c\\u002fb\\u003e %{x2}\\u003cbr\\u003e%{customdata[2]}\",\"legendgroup\":\"Red Means Go\",\"marker\":{\"color\":\"#FF6692\",\"pattern\":{\"shape\":\"\"}},\"name\":\"Red Means Go\",\"offsetgroup\":\"Red Means Go\",\"orientation\":\"h\",\"showlegend\":true,\"textposition\":\"auto\",\"x\":[5270400000.0],\"xaxis\":\"x\",\"y\":[\"Project\"],\"yaxis\":\"y\",\"type\":\"bar\",\"customdata\":[[\"B.S. in Data Science\",\"University of California San Diego\",\"2016-09\",\"2020-12\",\"\"],[\"Research Assistant\\u002fIntern\",\"Computational Neural Data and Dynamics Lab\",\"2018-10\",\"2019-06\",\"\"],[\"Business Intelligence Internship\",\"Alliant Insurance\",\"2019-06\",\"2019-08\",\"\"],[\"Business Intelligence Analyst\",\"Liftoff\",\"2021-04\",\"2022-09\",\"\"],[\"Technical Analyst\",\"Coforge\",\"2023-03\",\"2024-11\",\"\"],[\"BhajanBook Web Application\",\"Sai Center of Tustin\",\"2018-06\",\"2018-09\",\"\"],[\"Red Means Go\",\"University of California San Diego\",\"2020-04\",\"2020-06\",\"\"]]}],                        {\"template\":{\"data\":{\"histogram2dcontour\":[{\"type\":\"histogram2dcontour\",\"colorbar\":{\"outlinewidth\":0,\"ticks\":\"\"},\"colorscale\":[[0.0,\"#0d0887\"],[0.1111111111111111,\"#46039f\"],[0.2222222222222222,\"#7201a8\"],[0.3333333333333333,\"#9c179e\"],[0.4444444444444444,\"#bd3786\"],[0.5555555555555556,\"#d8576b\"],[0.6666666666666666,\"#ed7953\"],[0.7777777777777778,\"#fb9f3a\"],[0.8888888888888888,\"#fdca26\"],[1.0,\"#f0f921\"]]}],\"choropleth\":[{\"type\":\"choropleth\",\"colorbar\":{\"outlinewidth\":0,\"ticks\":\"\"}}],\"histogram2d\":[{\"type\":\"histogram2d\",\"colorbar\":{\"outlinewidth\":0,\"ticks\":\"\"},\"colorscale\":[[0.0,\"#0d0887\"],[0.1111111111111111,\"#46039f\"],[0.2222222222222222,\"#7201a8\"],[0.3333333333333333,\"#9c179e\"],[0.4444444444444444,\"#bd3786\"],[0.5555555555555556,\"#d8576b\"],[0.6666666666666666,\"#ed7953\"],[0.7777777777777778,\"#fb9f3a\"],[0.8888888888888888,\"#fdca26\"],[1.0,\"#f0f921\"]]}],\"heatmap\":[{\"type\":\"heatmap\",\"colorbar\":{\"outlinewidth\":0,\"ticks\":\"\"},\"colorscale\":[[0.0,\"#0d0887\"],[0.1111111111111111,\"#46039f\"],[0.2222222222222222,\"#7201a8\"],[0.3333333333333333,\"#9c179e\"],[0.4444444444444444,\"#bd3786\"],[0.5555555555555556,\"#d8576b\"],[0.6666666666666666,\"#ed7953\"],[0.7777777777777778,\"#fb9f3a\"],[0.8888888888888888,\"#fdca26\"],[1.0,\"#f0f921\"]]}],\"heatmapgl\":[{\"type\":\"heatmapgl\",\"colorbar\":{\"outlinewidth\":0,\"ticks\":\"\"},\"colorscale\":[[0.0,\"#0d0887\"],[0.1111111111111111,\"#46039f\"],[0.2222222222222222,\"#7201a8\"],[0.3333333333333333,\"#9c179e\"],[0.4444444444444444,\"#bd3786\"],[0.5555555555555556,\"#d8576b\"],[0.6666666666666666,\"#ed7953\"],[0.7777777777777778,\"#fb9f3a\"],[0.8888888888888888,\"#fdca26\"],[1.0,\"#f0f921\"]]}],\"contourcarpet\":[{\"type\":\"contourcarpet\",\"colorbar\":{\"outlinewidth\":0,\"ticks\":\"\"}}],\"contour\":[{\"type\":\"contour\",\"colorbar\":{\"outlinewidth\":0,\"ticks\":\"\"},\"colorscale\":[[0.0,\"#0d0887\"],[0.1111111111111111,\"#46039f\"],[0.2222222222222222,\"#7201a8\"],[0.3333333333333333,\"#9c179e\"],[0.4444444444444444,\"#bd3786\"],[0.5555555555555556,\"#d8576b\"],[0.6666666666666666,\"#ed7953\"],[0.7777777777777778,\"#fb9f3a\"],[0.8888888888888888,\"#fdca26\"],[1.0,\"#f0f921\"]]}],\"surface\":[{\"type\":\"surface\",\"colorbar\":{\"outlinewidth\":0,\"ticks\":\"\"},\"colorscale\":[[0.0,\"#0d0887\"],[0.1111111111111111,\"#46039f\"],[0.2222222222222222,\"#7201a8\"],[0.3333333333333333,\"#9c179e\"],[0.4444444444444444,\"#bd3786\"],[0.5555555555555556,\"#d8576b\"],[0.6666666666666666,\"#ed7953\"],[0.7777777777777778,\"#fb9f3a\"],[0.8888888888888888,\"#fdca26\"],[1.0,\"#f0f921\"]]}],\"mesh3d\":[{\"type\":\"mesh3d\",\"colorbar\":{\"outlinewidth\":0,\"ticks\":\"\"}}],\"scatter\":[{\"fillpattern\":{\"fillmode\":\"overlay\",\"size\":10,\"solidity\":0.2},\"type\":\"scatter\"}],\"parcoords\":[{\"type\":\"parcoords\",\"line\":{\"colorbar\":{\"outlinewidth\":0,\"ticks\":\"\"}}}],\"scatterpolargl\":[{\"type\":\"scatterpolargl\",\"marker\":{\"colorbar\":{\"outlinewidth\":0,\"ticks\":\"\"}}}],\"bar\":[{\"error_x\":{\"color\":\"#2a3f5f\"},\"error_y\":{\"color\":\"#2a3f5f\"},\"marker\":{\"line\":{\"color\":\"#E5ECF6\",\"width\":0.5},\"pattern\":{\"fillmode\":\"overlay\",\"size\":10,\"solidity\":0.2}},\"type\":\"bar\"}],\"scattergeo\":[{\"type\":\"scattergeo\",\"marker\":{\"colorbar\":{\"outlinewidth\":0,\"ticks\":\"\"}}}],\"scatterpolar\":[{\"type\":\"scatterpolar\",\"marker\":{\"colorbar\":{\"outlinewidth\":0,\"ticks\":\"\"}}}],\"histogram\":[{\"marker\":{\"pattern\":{\"fillmode\":\"overlay\",\"size\":10,\"solidity\":0.2}},\"type\":\"histogram\"}],\"scattergl\":[{\"type\":\"scattergl\",\"marker\":{\"colorbar\":{\"outlinewidth\":0,\"ticks\":\"\"}}}],\"scatter3d\":[{\"type\":\"scatter3d\",\"line\":{\"colorbar\":{\"outlinewidth\":0,\"ticks\":\"\"}},\"marker\":{\"colorbar\":{\"outlinewidth\":0,\"ticks\":\"\"}}}],\"scattermapbox\":[{\"type\":\"scattermapbox\",\"marker\":{\"colorbar\":{\"outlinewidth\":0,\"ticks\":\"\"}}}],\"scatterternary\":[{\"type\":\"scatterternary\",\"marker\":{\"colorbar\":{\"outlinewidth\":0,\"ticks\":\"\"}}}],\"scattercarpet\":[{\"type\":\"scattercarpet\",\"marker\":{\"colorbar\":{\"outlinewidth\":0,\"ticks\":\"\"}}}],\"carpet\":[{\"aaxis\":{\"endlinecolor\":\"#2a3f5f\",\"gridcolor\":\"white\",\"linecolor\":\"white\",\"minorgridcolor\":\"white\",\"startlinecolor\":\"#2a3f5f\"},\"baxis\":{\"endlinecolor\":\"#2a3f5f\",\"gridcolor\":\"white\",\"linecolor\":\"white\",\"minorgridcolor\":\"white\",\"startlinecolor\":\"#2a3f5f\"},\"type\":\"carpet\"}],\"table\":[{\"cells\":{\"fill\":{\"color\":\"#EBF0F8\"},\"line\":{\"color\":\"white\"}},\"header\":{\"fill\":{\"color\":\"#C8D4E3\"},\"line\":{\"color\":\"white\"}},\"type\":\"table\"}],\"barpolar\":[{\"marker\":{\"line\":{\"color\":\"#E5ECF6\",\"width\":0.5},\"pattern\":{\"fillmode\":\"overlay\",\"size\":10,\"solidity\":0.2}},\"type\":\"barpolar\"}],\"pie\":[{\"automargin\":true,\"type\":\"pie\"}]},\"layout\":{\"autotypenumbers\":\"strict\",\"colorway\":[\"#636efa\",\"#EF553B\",\"#00cc96\",\"#ab63fa\",\"#FFA15A\",\"#19d3f3\",\"#FF6692\",\"#B6E880\",\"#FF97FF\",\"#FECB52\"],\"font\":{\"color\":\"#2a3f5f\"},\"hovermode\":\"closest\",\"hoverlabel\":{\"align\":\"left\"},\"paper_bgcolor\":\"white\",\"plot_bgcolor\":\"#E5ECF6\",\"polar\":{\"bgcolor\":\"#E5ECF6\",\"angularaxis\":{\"gridcolor\":\"white\",\"linecolor\":\"white\",\"ticks\":\"\"},\"radialaxis\":{\"gridcolor\":\"white\",\"linecolor\":\"white\",\"ticks\":\"\"}},\"ternary\":{\"bgcolor\":\"#E5ECF6\",\"aaxis\":{\"gridcolor\":\"white\",\"linecolor\":\"white\",\"ticks\":\"\"},\"baxis\":{\"gridcolor\":\"white\",\"linecolor\":\"white\",\"ticks\":\"\"},\"caxis\":{\"gridcolor\":\"white\",\"linecolor\":\"white\",\"ticks\":\"\"}},\"coloraxis\":{\"colorbar\":{\"outlinewidth\":0,\"ticks\":\"\"}},\"colorscale\":{\"sequential\":[[0.0,\"#0d0887\"],[0.1111111111111111,\"#46039f\"],[0.2222222222222222,\"#7201a8\"],[0.3333333333333333,\"#9c179e\"],[0.4444444444444444,\"#bd3786\"],[0.5555555555555556,\"#d8576b\"],[0.6666666666666666,\"#ed7953\"],[0.7777777777777778,\"#fb9f3a\"],[0.8888888888888888,\"#fdca26\"],[1.0,\"#f0f921\"]],\"sequentialminus\":[[0.0,\"#0d0887\"],[0.1111111111111111,\"#46039f\"],[0.2222222222222222,\"#7201a8\"],[0.3333333333333333,\"#9c179e\"],[0.4444444444444444,\"#bd3786\"],[0.5555555555555556,\"#d8576b\"],[0.6666666666666666,\"#ed7953\"],[0.7777777777777778,\"#fb9f3a\"],[0.8888888888888888,\"#fdca26\"],[1.0,\"#f0f921\"]],\"diverging\":[[0,\"#8e0152\"],[0.1,\"#c51b7d\"],[0.2,\"#de77ae\"],[0.3,\"#f1b6da\"],[0.4,\"#fde0ef\"],[0.5,\"#f7f7f7\"],[0.6,\"#e6f5d0\"],[0.7,\"#b8e186\"],[0.8,\"#7fbc41\"],[0.9,\"#4d9221\"],[1,\"#276419\"]]},\"xaxis\":{\"gridcolor\":\"white\",\"linecolor\":\"white\",\"ticks\":\"\",\"title\":{\"standoff\":15},\"zerolinecolor\":\"white\",\"automargin\":true,\"zerolinewidth\":2},\"yaxis\":{\"gridcolor\":\"white\",\"linecolor\":\"white\",\"ticks\":\"\",\"title\":{\"standoff\":15},\"zerolinecolor\":\"white\",\"automargin\":true,\"zerolinewidth\":2},\"scene\":{\"xaxis\":{\"backgroundcolor\":\"#E5ECF6\",\"gridcolor\":\"white\",\"linecolor\":\"white\",\"showbackground\":true,\"ticks\":\"\",\"zerolinecolor\":\"white\",\"gridwidth\":2},\"yaxis\":{\"backgroundcolor\":\"#E5ECF6\",\"gridcolor\":\"white\",\"linecolor\":\"white\",\"showbackground\":true,\"ticks\":\"\",\"zerolinecolor\":\"white\",\"gridwidth\":2},\"zaxis\":{\"backgroundcolor\":\"#E5ECF6\",\"gridcolor\":\"white\",\"linecolor\":\"white\",\"showbackground\":true,\"ticks\":\"\",\"zerolinecolor\":\"white\",\"gridwidth\":2}},\"shapedefaults\":{\"line\":{\"color\":\"#2a3f5f\"}},\"annotationdefaults\":{\"arrowcolor\":\"#2a3f5f\",\"arrowhead\":0,\"arrowwidth\":1},\"geo\":{\"bgcolor\":\"white\",\"landcolor\":\"#E5ECF6\",\"subunitcolor\":\"white\",\"showland\":true,\"showlakes\":true,\"lakecolor\":\"white\"},\"title\":{\"x\":0.05},\"mapbox\":{\"style\":\"light\"}}},\"xaxis\":{\"anchor\":\"y\",\"domain\":[0.0,1.0],\"type\":\"date\"},\"yaxis\":{\"anchor\":\"x\",\"domain\":[0.0,1.0],\"title\":{\"text\":\"Type\"},\"autorange\":\"reversed\"},\"legend\":{\"title\":{\"text\":\"Title\"},\"tracegroupgap\":0},\"margin\":{\"t\":60},\"barmode\":\"overlay\"},                        {\"responsive\": true}                    ).then(function(){\n",
       "                            \n",
       "var gd = document.getElementById('083e7cac-9410-4ccb-b4f1-ec93d3581498');\n",
       "var x = new MutationObserver(function (mutations, observer) {{\n",
       "        var display = window.getComputedStyle(gd).display;\n",
       "        if (!display || display === 'none') {{\n",
       "            console.log([gd, 'removed!']);\n",
       "            Plotly.purge(gd);\n",
       "            observer.disconnect();\n",
       "        }}\n",
       "}});\n",
       "\n",
       "// Listen for the removal of the full notebook cells\n",
       "var notebookContainer = gd.closest('#notebook-container');\n",
       "if (notebookContainer) {{\n",
       "    x.observe(notebookContainer, {childList: true});\n",
       "}}\n",
       "\n",
       "// Listen for the clearing of the current output cell\n",
       "var outputEl = gd.closest('.output');\n",
       "if (outputEl) {{\n",
       "    x.observe(outputEl, {childList: true});\n",
       "}}\n",
       "\n",
       "                        })                };                });            </script>        </div>"
      ]
     },
     "metadata": {},
     "output_type": "display_data"
    }
   ],
   "source": [
    "fig = px.timeline(df, x_start=\"Start\", x_end=\"Finish\", y=\"Type\", color=\"Title\")\n",
    "\n",
    "fig.update_traces(\n",
    "    hovertemplate=(\n",
    "        \"<b>Title:</b> %{customdata[0]}<br>\"\n",
    "        \"<b>Location:</b> %{customdata[1]}<br>\"\n",
    "        \"<b>Start:</b> %{x}<br>\"\n",
    "        \"<b>Finish:</b> %{x2}<br>\"\n",
    "    ),\n",
    "    customdata=df[['Title', 'Location', 'Start', 'Finish', 'Notes']]\n",
    ")\n",
    "\n",
    "# Reverse the y-axis to list tasks top to bottom\n",
    "fig.update_yaxes(autorange=\"reversed\")\n",
    "\n",
    "# Show the figure\n",
    "fig.show()"
   ]
  },
  {
   "cell_type": "code",
   "execution_count": 16,
   "metadata": {
    "scrolled": false
   },
   "outputs": [
    {
     "data": {
      "application/vnd.plotly.v1+json": {
       "config": {
        "plotlyServerURL": "https://plot.ly"
       },
       "data": [
        {
         "alignmentgroup": "True",
         "base": [
          "2016-09"
         ],
         "hovertemplate": "Type=Education<br>Start=%{base}<br>Finish=%{x}<br>Title=%{y}<extra></extra>",
         "legendgroup": "Education",
         "marker": {
          "color": "#636efa",
          "pattern": {
           "shape": ""
          }
         },
         "name": "Education",
         "offsetgroup": "Education",
         "orientation": "h",
         "showlegend": true,
         "textposition": "auto",
         "type": "bar",
         "x": [
          134092800000
         ],
         "xaxis": "x",
         "y": [
          "B.S. in Data Science"
         ],
         "yaxis": "y"
        },
        {
         "alignmentgroup": "True",
         "base": [
          "2018-10",
          "2019-06",
          "2021-04",
          "2023-03"
         ],
         "hovertemplate": "Type=Experience<br>Start=%{base}<br>Finish=%{x}<br>Title=%{y}<extra></extra>",
         "legendgroup": "Experience",
         "marker": {
          "color": "#EF553B",
          "pattern": {
           "shape": ""
          }
         },
         "name": "Experience",
         "offsetgroup": "Experience",
         "orientation": "h",
         "showlegend": true,
         "textposition": "auto",
         "type": "bar",
         "x": [
          20995200000,
          5270400000,
          44755200000,
          52790400000
         ],
         "xaxis": "x",
         "y": [
          "Research Assistant/Intern",
          "Business Intelligence Internship",
          "Business Intelligence Analyst",
          "Technical Analyst"
         ],
         "yaxis": "y"
        },
        {
         "alignmentgroup": "True",
         "base": [
          "2020-04",
          "2018-06"
         ],
         "hovertemplate": "Type=Project<br>Start=%{base}<br>Finish=%{x}<br>Title=%{y}<extra></extra>",
         "legendgroup": "Project",
         "marker": {
          "color": "#00cc96",
          "pattern": {
           "shape": ""
          }
         },
         "name": "Project",
         "offsetgroup": "Project",
         "orientation": "h",
         "showlegend": true,
         "textposition": "auto",
         "type": "bar",
         "x": [
          5270400000,
          7948800000
         ],
         "xaxis": "x",
         "y": [
          "Red Means Go",
          "BhajanBook Web Application"
         ],
         "yaxis": "y"
        }
       ],
       "layout": {
        "barmode": "overlay",
        "legend": {
         "title": {
          "text": "Type"
         },
         "tracegroupgap": 0
        },
        "margin": {
         "t": 60
        },
        "template": {
         "data": {
          "bar": [
           {
            "error_x": {
             "color": "#2a3f5f"
            },
            "error_y": {
             "color": "#2a3f5f"
            },
            "marker": {
             "line": {
              "color": "#E5ECF6",
              "width": 0.5
             },
             "pattern": {
              "fillmode": "overlay",
              "size": 10,
              "solidity": 0.2
             }
            },
            "type": "bar"
           }
          ],
          "barpolar": [
           {
            "marker": {
             "line": {
              "color": "#E5ECF6",
              "width": 0.5
             },
             "pattern": {
              "fillmode": "overlay",
              "size": 10,
              "solidity": 0.2
             }
            },
            "type": "barpolar"
           }
          ],
          "carpet": [
           {
            "aaxis": {
             "endlinecolor": "#2a3f5f",
             "gridcolor": "white",
             "linecolor": "white",
             "minorgridcolor": "white",
             "startlinecolor": "#2a3f5f"
            },
            "baxis": {
             "endlinecolor": "#2a3f5f",
             "gridcolor": "white",
             "linecolor": "white",
             "minorgridcolor": "white",
             "startlinecolor": "#2a3f5f"
            },
            "type": "carpet"
           }
          ],
          "choropleth": [
           {
            "colorbar": {
             "outlinewidth": 0,
             "ticks": ""
            },
            "type": "choropleth"
           }
          ],
          "contour": [
           {
            "colorbar": {
             "outlinewidth": 0,
             "ticks": ""
            },
            "colorscale": [
             [
              0,
              "#0d0887"
             ],
             [
              0.1111111111111111,
              "#46039f"
             ],
             [
              0.2222222222222222,
              "#7201a8"
             ],
             [
              0.3333333333333333,
              "#9c179e"
             ],
             [
              0.4444444444444444,
              "#bd3786"
             ],
             [
              0.5555555555555556,
              "#d8576b"
             ],
             [
              0.6666666666666666,
              "#ed7953"
             ],
             [
              0.7777777777777778,
              "#fb9f3a"
             ],
             [
              0.8888888888888888,
              "#fdca26"
             ],
             [
              1,
              "#f0f921"
             ]
            ],
            "type": "contour"
           }
          ],
          "contourcarpet": [
           {
            "colorbar": {
             "outlinewidth": 0,
             "ticks": ""
            },
            "type": "contourcarpet"
           }
          ],
          "heatmap": [
           {
            "colorbar": {
             "outlinewidth": 0,
             "ticks": ""
            },
            "colorscale": [
             [
              0,
              "#0d0887"
             ],
             [
              0.1111111111111111,
              "#46039f"
             ],
             [
              0.2222222222222222,
              "#7201a8"
             ],
             [
              0.3333333333333333,
              "#9c179e"
             ],
             [
              0.4444444444444444,
              "#bd3786"
             ],
             [
              0.5555555555555556,
              "#d8576b"
             ],
             [
              0.6666666666666666,
              "#ed7953"
             ],
             [
              0.7777777777777778,
              "#fb9f3a"
             ],
             [
              0.8888888888888888,
              "#fdca26"
             ],
             [
              1,
              "#f0f921"
             ]
            ],
            "type": "heatmap"
           }
          ],
          "heatmapgl": [
           {
            "colorbar": {
             "outlinewidth": 0,
             "ticks": ""
            },
            "colorscale": [
             [
              0,
              "#0d0887"
             ],
             [
              0.1111111111111111,
              "#46039f"
             ],
             [
              0.2222222222222222,
              "#7201a8"
             ],
             [
              0.3333333333333333,
              "#9c179e"
             ],
             [
              0.4444444444444444,
              "#bd3786"
             ],
             [
              0.5555555555555556,
              "#d8576b"
             ],
             [
              0.6666666666666666,
              "#ed7953"
             ],
             [
              0.7777777777777778,
              "#fb9f3a"
             ],
             [
              0.8888888888888888,
              "#fdca26"
             ],
             [
              1,
              "#f0f921"
             ]
            ],
            "type": "heatmapgl"
           }
          ],
          "histogram": [
           {
            "marker": {
             "pattern": {
              "fillmode": "overlay",
              "size": 10,
              "solidity": 0.2
             }
            },
            "type": "histogram"
           }
          ],
          "histogram2d": [
           {
            "colorbar": {
             "outlinewidth": 0,
             "ticks": ""
            },
            "colorscale": [
             [
              0,
              "#0d0887"
             ],
             [
              0.1111111111111111,
              "#46039f"
             ],
             [
              0.2222222222222222,
              "#7201a8"
             ],
             [
              0.3333333333333333,
              "#9c179e"
             ],
             [
              0.4444444444444444,
              "#bd3786"
             ],
             [
              0.5555555555555556,
              "#d8576b"
             ],
             [
              0.6666666666666666,
              "#ed7953"
             ],
             [
              0.7777777777777778,
              "#fb9f3a"
             ],
             [
              0.8888888888888888,
              "#fdca26"
             ],
             [
              1,
              "#f0f921"
             ]
            ],
            "type": "histogram2d"
           }
          ],
          "histogram2dcontour": [
           {
            "colorbar": {
             "outlinewidth": 0,
             "ticks": ""
            },
            "colorscale": [
             [
              0,
              "#0d0887"
             ],
             [
              0.1111111111111111,
              "#46039f"
             ],
             [
              0.2222222222222222,
              "#7201a8"
             ],
             [
              0.3333333333333333,
              "#9c179e"
             ],
             [
              0.4444444444444444,
              "#bd3786"
             ],
             [
              0.5555555555555556,
              "#d8576b"
             ],
             [
              0.6666666666666666,
              "#ed7953"
             ],
             [
              0.7777777777777778,
              "#fb9f3a"
             ],
             [
              0.8888888888888888,
              "#fdca26"
             ],
             [
              1,
              "#f0f921"
             ]
            ],
            "type": "histogram2dcontour"
           }
          ],
          "mesh3d": [
           {
            "colorbar": {
             "outlinewidth": 0,
             "ticks": ""
            },
            "type": "mesh3d"
           }
          ],
          "parcoords": [
           {
            "line": {
             "colorbar": {
              "outlinewidth": 0,
              "ticks": ""
             }
            },
            "type": "parcoords"
           }
          ],
          "pie": [
           {
            "automargin": true,
            "type": "pie"
           }
          ],
          "scatter": [
           {
            "fillpattern": {
             "fillmode": "overlay",
             "size": 10,
             "solidity": 0.2
            },
            "type": "scatter"
           }
          ],
          "scatter3d": [
           {
            "line": {
             "colorbar": {
              "outlinewidth": 0,
              "ticks": ""
             }
            },
            "marker": {
             "colorbar": {
              "outlinewidth": 0,
              "ticks": ""
             }
            },
            "type": "scatter3d"
           }
          ],
          "scattercarpet": [
           {
            "marker": {
             "colorbar": {
              "outlinewidth": 0,
              "ticks": ""
             }
            },
            "type": "scattercarpet"
           }
          ],
          "scattergeo": [
           {
            "marker": {
             "colorbar": {
              "outlinewidth": 0,
              "ticks": ""
             }
            },
            "type": "scattergeo"
           }
          ],
          "scattergl": [
           {
            "marker": {
             "colorbar": {
              "outlinewidth": 0,
              "ticks": ""
             }
            },
            "type": "scattergl"
           }
          ],
          "scattermapbox": [
           {
            "marker": {
             "colorbar": {
              "outlinewidth": 0,
              "ticks": ""
             }
            },
            "type": "scattermapbox"
           }
          ],
          "scatterpolar": [
           {
            "marker": {
             "colorbar": {
              "outlinewidth": 0,
              "ticks": ""
             }
            },
            "type": "scatterpolar"
           }
          ],
          "scatterpolargl": [
           {
            "marker": {
             "colorbar": {
              "outlinewidth": 0,
              "ticks": ""
             }
            },
            "type": "scatterpolargl"
           }
          ],
          "scatterternary": [
           {
            "marker": {
             "colorbar": {
              "outlinewidth": 0,
              "ticks": ""
             }
            },
            "type": "scatterternary"
           }
          ],
          "surface": [
           {
            "colorbar": {
             "outlinewidth": 0,
             "ticks": ""
            },
            "colorscale": [
             [
              0,
              "#0d0887"
             ],
             [
              0.1111111111111111,
              "#46039f"
             ],
             [
              0.2222222222222222,
              "#7201a8"
             ],
             [
              0.3333333333333333,
              "#9c179e"
             ],
             [
              0.4444444444444444,
              "#bd3786"
             ],
             [
              0.5555555555555556,
              "#d8576b"
             ],
             [
              0.6666666666666666,
              "#ed7953"
             ],
             [
              0.7777777777777778,
              "#fb9f3a"
             ],
             [
              0.8888888888888888,
              "#fdca26"
             ],
             [
              1,
              "#f0f921"
             ]
            ],
            "type": "surface"
           }
          ],
          "table": [
           {
            "cells": {
             "fill": {
              "color": "#EBF0F8"
             },
             "line": {
              "color": "white"
             }
            },
            "header": {
             "fill": {
              "color": "#C8D4E3"
             },
             "line": {
              "color": "white"
             }
            },
            "type": "table"
           }
          ]
         },
         "layout": {
          "annotationdefaults": {
           "arrowcolor": "#2a3f5f",
           "arrowhead": 0,
           "arrowwidth": 1
          },
          "autotypenumbers": "strict",
          "coloraxis": {
           "colorbar": {
            "outlinewidth": 0,
            "ticks": ""
           }
          },
          "colorscale": {
           "diverging": [
            [
             0,
             "#8e0152"
            ],
            [
             0.1,
             "#c51b7d"
            ],
            [
             0.2,
             "#de77ae"
            ],
            [
             0.3,
             "#f1b6da"
            ],
            [
             0.4,
             "#fde0ef"
            ],
            [
             0.5,
             "#f7f7f7"
            ],
            [
             0.6,
             "#e6f5d0"
            ],
            [
             0.7,
             "#b8e186"
            ],
            [
             0.8,
             "#7fbc41"
            ],
            [
             0.9,
             "#4d9221"
            ],
            [
             1,
             "#276419"
            ]
           ],
           "sequential": [
            [
             0,
             "#0d0887"
            ],
            [
             0.1111111111111111,
             "#46039f"
            ],
            [
             0.2222222222222222,
             "#7201a8"
            ],
            [
             0.3333333333333333,
             "#9c179e"
            ],
            [
             0.4444444444444444,
             "#bd3786"
            ],
            [
             0.5555555555555556,
             "#d8576b"
            ],
            [
             0.6666666666666666,
             "#ed7953"
            ],
            [
             0.7777777777777778,
             "#fb9f3a"
            ],
            [
             0.8888888888888888,
             "#fdca26"
            ],
            [
             1,
             "#f0f921"
            ]
           ],
           "sequentialminus": [
            [
             0,
             "#0d0887"
            ],
            [
             0.1111111111111111,
             "#46039f"
            ],
            [
             0.2222222222222222,
             "#7201a8"
            ],
            [
             0.3333333333333333,
             "#9c179e"
            ],
            [
             0.4444444444444444,
             "#bd3786"
            ],
            [
             0.5555555555555556,
             "#d8576b"
            ],
            [
             0.6666666666666666,
             "#ed7953"
            ],
            [
             0.7777777777777778,
             "#fb9f3a"
            ],
            [
             0.8888888888888888,
             "#fdca26"
            ],
            [
             1,
             "#f0f921"
            ]
           ]
          },
          "colorway": [
           "#636efa",
           "#EF553B",
           "#00cc96",
           "#ab63fa",
           "#FFA15A",
           "#19d3f3",
           "#FF6692",
           "#B6E880",
           "#FF97FF",
           "#FECB52"
          ],
          "font": {
           "color": "#2a3f5f"
          },
          "geo": {
           "bgcolor": "white",
           "lakecolor": "white",
           "landcolor": "#E5ECF6",
           "showlakes": true,
           "showland": true,
           "subunitcolor": "white"
          },
          "hoverlabel": {
           "align": "left"
          },
          "hovermode": "closest",
          "mapbox": {
           "style": "light"
          },
          "paper_bgcolor": "white",
          "plot_bgcolor": "#E5ECF6",
          "polar": {
           "angularaxis": {
            "gridcolor": "white",
            "linecolor": "white",
            "ticks": ""
           },
           "bgcolor": "#E5ECF6",
           "radialaxis": {
            "gridcolor": "white",
            "linecolor": "white",
            "ticks": ""
           }
          },
          "scene": {
           "xaxis": {
            "backgroundcolor": "#E5ECF6",
            "gridcolor": "white",
            "gridwidth": 2,
            "linecolor": "white",
            "showbackground": true,
            "ticks": "",
            "zerolinecolor": "white"
           },
           "yaxis": {
            "backgroundcolor": "#E5ECF6",
            "gridcolor": "white",
            "gridwidth": 2,
            "linecolor": "white",
            "showbackground": true,
            "ticks": "",
            "zerolinecolor": "white"
           },
           "zaxis": {
            "backgroundcolor": "#E5ECF6",
            "gridcolor": "white",
            "gridwidth": 2,
            "linecolor": "white",
            "showbackground": true,
            "ticks": "",
            "zerolinecolor": "white"
           }
          },
          "shapedefaults": {
           "line": {
            "color": "#2a3f5f"
           }
          },
          "ternary": {
           "aaxis": {
            "gridcolor": "white",
            "linecolor": "white",
            "ticks": ""
           },
           "baxis": {
            "gridcolor": "white",
            "linecolor": "white",
            "ticks": ""
           },
           "bgcolor": "#E5ECF6",
           "caxis": {
            "gridcolor": "white",
            "linecolor": "white",
            "ticks": ""
           }
          },
          "title": {
           "x": 0.05
          },
          "xaxis": {
           "automargin": true,
           "gridcolor": "white",
           "linecolor": "white",
           "ticks": "",
           "title": {
            "standoff": 15
           },
           "zerolinecolor": "white",
           "zerolinewidth": 2
          },
          "yaxis": {
           "automargin": true,
           "gridcolor": "white",
           "linecolor": "white",
           "ticks": "",
           "title": {
            "standoff": 15
           },
           "zerolinecolor": "white",
           "zerolinewidth": 2
          }
         }
        },
        "xaxis": {
         "anchor": "y",
         "domain": [
          0,
          1
         ],
         "type": "date"
        },
        "yaxis": {
         "anchor": "x",
         "autorange": "reversed",
         "domain": [
          0,
          1
         ],
         "title": {
          "text": "Title"
         }
        }
       }
      },
      "text/html": [
       "<div>                            <div id=\"cc7b09b8-78f0-474a-bdd7-85099d29d7f2\" class=\"plotly-graph-div\" style=\"height:525px; width:100%;\"></div>            <script type=\"text/javascript\">                require([\"plotly\"], function(Plotly) {                    window.PLOTLYENV=window.PLOTLYENV || {};                                    if (document.getElementById(\"cc7b09b8-78f0-474a-bdd7-85099d29d7f2\")) {                    Plotly.newPlot(                        \"cc7b09b8-78f0-474a-bdd7-85099d29d7f2\",                        [{\"alignmentgroup\":\"True\",\"base\":[\"2016-09\"],\"hovertemplate\":\"Type=Education\\u003cbr\\u003eStart=%{base}\\u003cbr\\u003eFinish=%{x}\\u003cbr\\u003eTitle=%{y}\\u003cextra\\u003e\\u003c\\u002fextra\\u003e\",\"legendgroup\":\"Education\",\"marker\":{\"color\":\"#636efa\",\"pattern\":{\"shape\":\"\"}},\"name\":\"Education\",\"offsetgroup\":\"Education\",\"orientation\":\"h\",\"showlegend\":true,\"textposition\":\"auto\",\"x\":[134092800000.0],\"xaxis\":\"x\",\"y\":[\"B.S. in Data Science\"],\"yaxis\":\"y\",\"type\":\"bar\"},{\"alignmentgroup\":\"True\",\"base\":[\"2018-10\",\"2019-06\",\"2021-04\",\"2023-03\"],\"hovertemplate\":\"Type=Experience\\u003cbr\\u003eStart=%{base}\\u003cbr\\u003eFinish=%{x}\\u003cbr\\u003eTitle=%{y}\\u003cextra\\u003e\\u003c\\u002fextra\\u003e\",\"legendgroup\":\"Experience\",\"marker\":{\"color\":\"#EF553B\",\"pattern\":{\"shape\":\"\"}},\"name\":\"Experience\",\"offsetgroup\":\"Experience\",\"orientation\":\"h\",\"showlegend\":true,\"textposition\":\"auto\",\"x\":[20995200000.0,5270400000.0,44755200000.0,52790400000.0],\"xaxis\":\"x\",\"y\":[\"Research Assistant\\u002fIntern\",\"Business Intelligence Internship\",\"Business Intelligence Analyst\",\"Technical Analyst\"],\"yaxis\":\"y\",\"type\":\"bar\"},{\"alignmentgroup\":\"True\",\"base\":[\"2020-04\",\"2018-06\"],\"hovertemplate\":\"Type=Project\\u003cbr\\u003eStart=%{base}\\u003cbr\\u003eFinish=%{x}\\u003cbr\\u003eTitle=%{y}\\u003cextra\\u003e\\u003c\\u002fextra\\u003e\",\"legendgroup\":\"Project\",\"marker\":{\"color\":\"#00cc96\",\"pattern\":{\"shape\":\"\"}},\"name\":\"Project\",\"offsetgroup\":\"Project\",\"orientation\":\"h\",\"showlegend\":true,\"textposition\":\"auto\",\"x\":[5270400000.0,7948800000.0],\"xaxis\":\"x\",\"y\":[\"Red Means Go\",\"BhajanBook Web Application\"],\"yaxis\":\"y\",\"type\":\"bar\"}],                        {\"template\":{\"data\":{\"histogram2dcontour\":[{\"type\":\"histogram2dcontour\",\"colorbar\":{\"outlinewidth\":0,\"ticks\":\"\"},\"colorscale\":[[0.0,\"#0d0887\"],[0.1111111111111111,\"#46039f\"],[0.2222222222222222,\"#7201a8\"],[0.3333333333333333,\"#9c179e\"],[0.4444444444444444,\"#bd3786\"],[0.5555555555555556,\"#d8576b\"],[0.6666666666666666,\"#ed7953\"],[0.7777777777777778,\"#fb9f3a\"],[0.8888888888888888,\"#fdca26\"],[1.0,\"#f0f921\"]]}],\"choropleth\":[{\"type\":\"choropleth\",\"colorbar\":{\"outlinewidth\":0,\"ticks\":\"\"}}],\"histogram2d\":[{\"type\":\"histogram2d\",\"colorbar\":{\"outlinewidth\":0,\"ticks\":\"\"},\"colorscale\":[[0.0,\"#0d0887\"],[0.1111111111111111,\"#46039f\"],[0.2222222222222222,\"#7201a8\"],[0.3333333333333333,\"#9c179e\"],[0.4444444444444444,\"#bd3786\"],[0.5555555555555556,\"#d8576b\"],[0.6666666666666666,\"#ed7953\"],[0.7777777777777778,\"#fb9f3a\"],[0.8888888888888888,\"#fdca26\"],[1.0,\"#f0f921\"]]}],\"heatmap\":[{\"type\":\"heatmap\",\"colorbar\":{\"outlinewidth\":0,\"ticks\":\"\"},\"colorscale\":[[0.0,\"#0d0887\"],[0.1111111111111111,\"#46039f\"],[0.2222222222222222,\"#7201a8\"],[0.3333333333333333,\"#9c179e\"],[0.4444444444444444,\"#bd3786\"],[0.5555555555555556,\"#d8576b\"],[0.6666666666666666,\"#ed7953\"],[0.7777777777777778,\"#fb9f3a\"],[0.8888888888888888,\"#fdca26\"],[1.0,\"#f0f921\"]]}],\"heatmapgl\":[{\"type\":\"heatmapgl\",\"colorbar\":{\"outlinewidth\":0,\"ticks\":\"\"},\"colorscale\":[[0.0,\"#0d0887\"],[0.1111111111111111,\"#46039f\"],[0.2222222222222222,\"#7201a8\"],[0.3333333333333333,\"#9c179e\"],[0.4444444444444444,\"#bd3786\"],[0.5555555555555556,\"#d8576b\"],[0.6666666666666666,\"#ed7953\"],[0.7777777777777778,\"#fb9f3a\"],[0.8888888888888888,\"#fdca26\"],[1.0,\"#f0f921\"]]}],\"contourcarpet\":[{\"type\":\"contourcarpet\",\"colorbar\":{\"outlinewidth\":0,\"ticks\":\"\"}}],\"contour\":[{\"type\":\"contour\",\"colorbar\":{\"outlinewidth\":0,\"ticks\":\"\"},\"colorscale\":[[0.0,\"#0d0887\"],[0.1111111111111111,\"#46039f\"],[0.2222222222222222,\"#7201a8\"],[0.3333333333333333,\"#9c179e\"],[0.4444444444444444,\"#bd3786\"],[0.5555555555555556,\"#d8576b\"],[0.6666666666666666,\"#ed7953\"],[0.7777777777777778,\"#fb9f3a\"],[0.8888888888888888,\"#fdca26\"],[1.0,\"#f0f921\"]]}],\"surface\":[{\"type\":\"surface\",\"colorbar\":{\"outlinewidth\":0,\"ticks\":\"\"},\"colorscale\":[[0.0,\"#0d0887\"],[0.1111111111111111,\"#46039f\"],[0.2222222222222222,\"#7201a8\"],[0.3333333333333333,\"#9c179e\"],[0.4444444444444444,\"#bd3786\"],[0.5555555555555556,\"#d8576b\"],[0.6666666666666666,\"#ed7953\"],[0.7777777777777778,\"#fb9f3a\"],[0.8888888888888888,\"#fdca26\"],[1.0,\"#f0f921\"]]}],\"mesh3d\":[{\"type\":\"mesh3d\",\"colorbar\":{\"outlinewidth\":0,\"ticks\":\"\"}}],\"scatter\":[{\"fillpattern\":{\"fillmode\":\"overlay\",\"size\":10,\"solidity\":0.2},\"type\":\"scatter\"}],\"parcoords\":[{\"type\":\"parcoords\",\"line\":{\"colorbar\":{\"outlinewidth\":0,\"ticks\":\"\"}}}],\"scatterpolargl\":[{\"type\":\"scatterpolargl\",\"marker\":{\"colorbar\":{\"outlinewidth\":0,\"ticks\":\"\"}}}],\"bar\":[{\"error_x\":{\"color\":\"#2a3f5f\"},\"error_y\":{\"color\":\"#2a3f5f\"},\"marker\":{\"line\":{\"color\":\"#E5ECF6\",\"width\":0.5},\"pattern\":{\"fillmode\":\"overlay\",\"size\":10,\"solidity\":0.2}},\"type\":\"bar\"}],\"scattergeo\":[{\"type\":\"scattergeo\",\"marker\":{\"colorbar\":{\"outlinewidth\":0,\"ticks\":\"\"}}}],\"scatterpolar\":[{\"type\":\"scatterpolar\",\"marker\":{\"colorbar\":{\"outlinewidth\":0,\"ticks\":\"\"}}}],\"histogram\":[{\"marker\":{\"pattern\":{\"fillmode\":\"overlay\",\"size\":10,\"solidity\":0.2}},\"type\":\"histogram\"}],\"scattergl\":[{\"type\":\"scattergl\",\"marker\":{\"colorbar\":{\"outlinewidth\":0,\"ticks\":\"\"}}}],\"scatter3d\":[{\"type\":\"scatter3d\",\"line\":{\"colorbar\":{\"outlinewidth\":0,\"ticks\":\"\"}},\"marker\":{\"colorbar\":{\"outlinewidth\":0,\"ticks\":\"\"}}}],\"scattermapbox\":[{\"type\":\"scattermapbox\",\"marker\":{\"colorbar\":{\"outlinewidth\":0,\"ticks\":\"\"}}}],\"scatterternary\":[{\"type\":\"scatterternary\",\"marker\":{\"colorbar\":{\"outlinewidth\":0,\"ticks\":\"\"}}}],\"scattercarpet\":[{\"type\":\"scattercarpet\",\"marker\":{\"colorbar\":{\"outlinewidth\":0,\"ticks\":\"\"}}}],\"carpet\":[{\"aaxis\":{\"endlinecolor\":\"#2a3f5f\",\"gridcolor\":\"white\",\"linecolor\":\"white\",\"minorgridcolor\":\"white\",\"startlinecolor\":\"#2a3f5f\"},\"baxis\":{\"endlinecolor\":\"#2a3f5f\",\"gridcolor\":\"white\",\"linecolor\":\"white\",\"minorgridcolor\":\"white\",\"startlinecolor\":\"#2a3f5f\"},\"type\":\"carpet\"}],\"table\":[{\"cells\":{\"fill\":{\"color\":\"#EBF0F8\"},\"line\":{\"color\":\"white\"}},\"header\":{\"fill\":{\"color\":\"#C8D4E3\"},\"line\":{\"color\":\"white\"}},\"type\":\"table\"}],\"barpolar\":[{\"marker\":{\"line\":{\"color\":\"#E5ECF6\",\"width\":0.5},\"pattern\":{\"fillmode\":\"overlay\",\"size\":10,\"solidity\":0.2}},\"type\":\"barpolar\"}],\"pie\":[{\"automargin\":true,\"type\":\"pie\"}]},\"layout\":{\"autotypenumbers\":\"strict\",\"colorway\":[\"#636efa\",\"#EF553B\",\"#00cc96\",\"#ab63fa\",\"#FFA15A\",\"#19d3f3\",\"#FF6692\",\"#B6E880\",\"#FF97FF\",\"#FECB52\"],\"font\":{\"color\":\"#2a3f5f\"},\"hovermode\":\"closest\",\"hoverlabel\":{\"align\":\"left\"},\"paper_bgcolor\":\"white\",\"plot_bgcolor\":\"#E5ECF6\",\"polar\":{\"bgcolor\":\"#E5ECF6\",\"angularaxis\":{\"gridcolor\":\"white\",\"linecolor\":\"white\",\"ticks\":\"\"},\"radialaxis\":{\"gridcolor\":\"white\",\"linecolor\":\"white\",\"ticks\":\"\"}},\"ternary\":{\"bgcolor\":\"#E5ECF6\",\"aaxis\":{\"gridcolor\":\"white\",\"linecolor\":\"white\",\"ticks\":\"\"},\"baxis\":{\"gridcolor\":\"white\",\"linecolor\":\"white\",\"ticks\":\"\"},\"caxis\":{\"gridcolor\":\"white\",\"linecolor\":\"white\",\"ticks\":\"\"}},\"coloraxis\":{\"colorbar\":{\"outlinewidth\":0,\"ticks\":\"\"}},\"colorscale\":{\"sequential\":[[0.0,\"#0d0887\"],[0.1111111111111111,\"#46039f\"],[0.2222222222222222,\"#7201a8\"],[0.3333333333333333,\"#9c179e\"],[0.4444444444444444,\"#bd3786\"],[0.5555555555555556,\"#d8576b\"],[0.6666666666666666,\"#ed7953\"],[0.7777777777777778,\"#fb9f3a\"],[0.8888888888888888,\"#fdca26\"],[1.0,\"#f0f921\"]],\"sequentialminus\":[[0.0,\"#0d0887\"],[0.1111111111111111,\"#46039f\"],[0.2222222222222222,\"#7201a8\"],[0.3333333333333333,\"#9c179e\"],[0.4444444444444444,\"#bd3786\"],[0.5555555555555556,\"#d8576b\"],[0.6666666666666666,\"#ed7953\"],[0.7777777777777778,\"#fb9f3a\"],[0.8888888888888888,\"#fdca26\"],[1.0,\"#f0f921\"]],\"diverging\":[[0,\"#8e0152\"],[0.1,\"#c51b7d\"],[0.2,\"#de77ae\"],[0.3,\"#f1b6da\"],[0.4,\"#fde0ef\"],[0.5,\"#f7f7f7\"],[0.6,\"#e6f5d0\"],[0.7,\"#b8e186\"],[0.8,\"#7fbc41\"],[0.9,\"#4d9221\"],[1,\"#276419\"]]},\"xaxis\":{\"gridcolor\":\"white\",\"linecolor\":\"white\",\"ticks\":\"\",\"title\":{\"standoff\":15},\"zerolinecolor\":\"white\",\"automargin\":true,\"zerolinewidth\":2},\"yaxis\":{\"gridcolor\":\"white\",\"linecolor\":\"white\",\"ticks\":\"\",\"title\":{\"standoff\":15},\"zerolinecolor\":\"white\",\"automargin\":true,\"zerolinewidth\":2},\"scene\":{\"xaxis\":{\"backgroundcolor\":\"#E5ECF6\",\"gridcolor\":\"white\",\"linecolor\":\"white\",\"showbackground\":true,\"ticks\":\"\",\"zerolinecolor\":\"white\",\"gridwidth\":2},\"yaxis\":{\"backgroundcolor\":\"#E5ECF6\",\"gridcolor\":\"white\",\"linecolor\":\"white\",\"showbackground\":true,\"ticks\":\"\",\"zerolinecolor\":\"white\",\"gridwidth\":2},\"zaxis\":{\"backgroundcolor\":\"#E5ECF6\",\"gridcolor\":\"white\",\"linecolor\":\"white\",\"showbackground\":true,\"ticks\":\"\",\"zerolinecolor\":\"white\",\"gridwidth\":2}},\"shapedefaults\":{\"line\":{\"color\":\"#2a3f5f\"}},\"annotationdefaults\":{\"arrowcolor\":\"#2a3f5f\",\"arrowhead\":0,\"arrowwidth\":1},\"geo\":{\"bgcolor\":\"white\",\"landcolor\":\"#E5ECF6\",\"subunitcolor\":\"white\",\"showland\":true,\"showlakes\":true,\"lakecolor\":\"white\"},\"title\":{\"x\":0.05},\"mapbox\":{\"style\":\"light\"}}},\"xaxis\":{\"anchor\":\"y\",\"domain\":[0.0,1.0],\"type\":\"date\"},\"yaxis\":{\"anchor\":\"x\",\"domain\":[0.0,1.0],\"title\":{\"text\":\"Title\"},\"autorange\":\"reversed\"},\"legend\":{\"title\":{\"text\":\"Type\"},\"tracegroupgap\":0},\"margin\":{\"t\":60},\"barmode\":\"overlay\"},                        {\"responsive\": true}                    ).then(function(){\n",
       "                            \n",
       "var gd = document.getElementById('cc7b09b8-78f0-474a-bdd7-85099d29d7f2');\n",
       "var x = new MutationObserver(function (mutations, observer) {{\n",
       "        var display = window.getComputedStyle(gd).display;\n",
       "        if (!display || display === 'none') {{\n",
       "            console.log([gd, 'removed!']);\n",
       "            Plotly.purge(gd);\n",
       "            observer.disconnect();\n",
       "        }}\n",
       "}});\n",
       "\n",
       "// Listen for the removal of the full notebook cells\n",
       "var notebookContainer = gd.closest('#notebook-container');\n",
       "if (notebookContainer) {{\n",
       "    x.observe(notebookContainer, {childList: true});\n",
       "}}\n",
       "\n",
       "// Listen for the clearing of the current output cell\n",
       "var outputEl = gd.closest('.output');\n",
       "if (outputEl) {{\n",
       "    x.observe(outputEl, {childList: true});\n",
       "}}\n",
       "\n",
       "                        })                };                });            </script>        </div>"
      ]
     },
     "metadata": {},
     "output_type": "display_data"
    }
   ],
   "source": [
    "fig = px.timeline(df, x_start=\"Start\", x_end=\"Finish\", y=\"Title\", color=\"Type\")\n",
    "fig.update_yaxes(autorange=\"reversed\") # otherwise tasks are listed from the bottom up\n",
    "fig.show()"
   ]
  },
  {
   "cell_type": "code",
   "execution_count": null,
   "metadata": {},
   "outputs": [],
   "source": []
  }
 ],
 "metadata": {
  "kernelspec": {
   "display_name": "Python 3",
   "language": "python",
   "name": "python3"
  },
  "language_info": {
   "codemirror_mode": {
    "name": "ipython",
    "version": 3
   },
   "file_extension": ".py",
   "mimetype": "text/x-python",
   "name": "python",
   "nbconvert_exporter": "python",
   "pygments_lexer": "ipython3",
   "version": "3.7.4"
  }
 },
 "nbformat": 4,
 "nbformat_minor": 2
}
